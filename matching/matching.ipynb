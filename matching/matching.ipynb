{
 "cells": [
  {
   "cell_type": "code",
   "execution_count": null,
   "metadata": {},
   "outputs": [],
   "source": [
    "#Imports"
   ]
  },
  {
   "cell_type": "code",
   "execution_count": null,
   "metadata": {},
   "outputs": [],
   "source": [
    "#Get cell images\n",
    "\n",
    "#Get cell masks\n",
    "\n",
    "#Get groundtruth matching indices from the txt file"
   ]
  },
  {
   "cell_type": "code",
   "execution_count": null,
   "metadata": {},
   "outputs": [],
   "source": [
    "#Get encoder\n",
    "\n",
    "#Get encoder features\n",
    "\n",
    "#Downsample the mask to match the dimensions of the encoder features\n",
    "\n",
    "#Mask out the encoder features of each cell"
   ]
  },
  {
   "cell_type": "code",
   "execution_count": null,
   "metadata": {},
   "outputs": [],
   "source": [
    "#Get the cosine similarity between the corresponding channels of encoding features between cells\n",
    "\n",
    "#Average out the cosine similarity to get a single number between every cell between two images"
   ]
  },
  {
   "cell_type": "code",
   "execution_count": null,
   "metadata": {},
   "outputs": [],
   "source": [
    "#Use the grid algorithm to match the cells between the two images"
   ]
  },
  {
   "cell_type": "code",
   "execution_count": null,
   "metadata": {},
   "outputs": [],
   "source": [
    "#Compare the found indices to the groundtruth indices"
   ]
  }
 ],
 "metadata": {
  "language_info": {
   "name": "python"
  },
  "orig_nbformat": 4
 },
 "nbformat": 4,
 "nbformat_minor": 2
}
