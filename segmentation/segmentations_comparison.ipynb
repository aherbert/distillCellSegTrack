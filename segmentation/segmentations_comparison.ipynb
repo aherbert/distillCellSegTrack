{
 "cells": [
  {
   "cell_type": "code",
   "execution_count": 1,
   "metadata": {},
   "outputs": [
    {
     "name": "stderr",
     "output_type": "stream",
     "text": [
      "/opt/anaconda3/envs/cellposeM1Test/lib/python3.8/site-packages/tqdm/auto.py:21: TqdmWarning: IProgress not found. Please update jupyter and ipywidgets. See https://ipywidgets.readthedocs.io/en/stable/user_install.html\n",
      "  from .autonotebook import tqdm as notebook_tqdm\n"
     ]
    }
   ],
   "source": [
    "import numpy as np\n",
    "from os import listdir\n",
    "from os.path import isfile, join\n",
    "import tifffile\n",
    "from cellpose import models, io, core\n",
    "import time\n",
    "from sklearn.model_selection import train_test_split\n",
    "from statistics import mean\n",
    "from u_net import UNet\n",
    "import torch\n",
    "from skimage import measure"
   ]
  },
  {
   "cell_type": "code",
   "execution_count": 6,
   "metadata": {},
   "outputs": [],
   "source": [
    "def get_data(path, num_imgs=4, set='01'):\n",
    "\n",
    "    images_path = path + set + '/'\n",
    "    onlyfiles = [f for f in listdir(images_path) if isfile(join(images_path, f))]\n",
    "    onlyfiles.sort(key=lambda f: int(''.join(filter(str.isdigit, f))))\n",
    "    if num_imgs > len(onlyfiles): num_imgs = len(onlyfiles)\n",
    "    images = [np.squeeze(tifffile.imread(images_path +  onlyfiles[i])) for i in range(num_imgs)]\n",
    "    images = [(image-np.min(image))/(np.max(image)-np.min(image)) for image in images]\n",
    "    \n",
    "    masks_path = path + set + '_GT/TRA/'\n",
    "    onlyfiles = [f for f in listdir(masks_path) if isfile(join(masks_path, f))]\n",
    "    onlyfiles = [val for val in onlyfiles if not val.endswith(\".txt\")]\n",
    "    onlyfiles.sort(key=lambda f: int(''.join(filter(str.isdigit, f))))\n",
    "    if num_imgs > len(onlyfiles): num_imgs = len(onlyfiles)\n",
    "    masks = [np.squeeze(tifffile.imread(masks_path +  onlyfiles[i])) for i in range(num_imgs)]\n",
    "\n",
    "    return images, masks"
   ]
  },
  {
   "cell_type": "code",
   "execution_count": 3,
   "metadata": {},
   "outputs": [],
   "source": [
    "def get_IoU(predicted_masks,gt_masks):\n",
    "    intersection_unions = []\n",
    "    for i in range(len(predicted_masks)):\n",
    "        intersection = np.logical_and(predicted_masks[i], gt_masks[i]).sum()\n",
    "        union = np.logical_or(predicted_masks[i], gt_masks[i]).sum()\n",
    "        intersection_unions.append(intersection/union)\n",
    "    return mean(intersection_unions)\n",
    "\n",
    "def get_dice(predicted_masks,gt_masks):\n",
    "    dices = []\n",
    "    for i in range(len(predicted_masks)):\n",
    "        intersection = np.logical_and(predicted_masks[i], gt_masks[i]).sum()\n",
    "        dice = (2*intersection)/(predicted_masks[i].sum() + gt_masks[i].sum())\n",
    "        dices.append(dice)\n",
    "    return mean(dices)"
   ]
  },
  {
   "cell_type": "code",
   "execution_count": 7,
   "metadata": {},
   "outputs": [],
   "source": [
    "images_02, masks_02 = get_data(\"/Users/rehanzuberi/Downloads/distillCellSegTrack/\" + 'datasets/Fluo-N2DL-HeLa/', num_imgs=92, set='02')\n",
    "images_02_train, images_02_test, masks_02_train, masks_02_test = train_test_split(images_02, masks_02, test_size=0.2, random_state=42)"
   ]
  },
  {
   "cell_type": "code",
   "execution_count": 11,
   "metadata": {},
   "outputs": [],
   "source": [
    "#Get cellpose predictions and the distilled U-Net predictions\n",
    "cellpose_model = models.CellposeModel(gpu=core.use_gpu(), pretrained_model='/Users/rehanzuberi/Downloads/distillCellSegTrack/segmentation/train_dir/models/cellpose_trained_model')\n",
    "cellpose_predicted_masks = cellpose_model.eval(images_02_test, batch_size=1, channels=[0,0], diameter=cellpose_model.diam_labels)[0]"
   ]
  },
  {
   "cell_type": "code",
   "execution_count": 13,
   "metadata": {},
   "outputs": [],
   "source": [
    "#Get base cellpose 'cyto' predictions\n",
    "cellpose_cyto_model = models.CellposeModel(gpu=core.use_gpu(),model_type='cyto')\n",
    "cellpose_cyto_predicted_masks = cellpose_cyto_model.eval(images_02_test, batch_size=1, channels=[0,0])[0]"
   ]
  },
  {
   "cell_type": "code",
   "execution_count": 31,
   "metadata": {},
   "outputs": [],
   "source": [
    "#Get distilled U-Net predictions\n",
    "model = UNet()\n",
    "#model = model.to('cuda:0')\n",
    "model.load_state_dict(torch.load('/Users/rehanzuberi/Downloads/distillCellSegTrack/segmentation/train_dir/models/unet_trained_model',map_location=torch.device('cpu')))\n",
    "distilled_predicted_masks = []\n",
    "for test_image in images_02_test:\n",
    "    #test_image = torch.from_numpy(test_image).float().unsqueeze(0).unsqueeze(0).to('cuda:0')\n",
    "    test_image = torch.from_numpy(test_image).float().unsqueeze(0).unsqueeze(0)\n",
    "    outputs = model(test_image).squeeze(0).squeeze(0).cpu().detach().numpy()\n",
    "    outputs = 1/(1+np.exp(-outputs)) #sigmoid the outputs\n",
    "    binary_outputs = np.where(outputs > 0.5, 1, 0)\n",
    "    #predicted_instance_mask = measure.label(predicted_binary_mask, connectivity=2)\n",
    "    distilled_predicted_masks.append(binary_outputs)"
   ]
  },
  {
   "cell_type": "code",
   "execution_count": 23,
   "metadata": {},
   "outputs": [],
   "source": [
    "#Binarise the ground truth masks\n",
    "masks_02_test_binary = [np.where(mask>0,1,0) for mask in masks_02_test]\n",
    "\n",
    "#Binarise the cellpose predictions\n",
    "cellpose_predicted_masks_binary = [np.where(mask>0,1,0) for mask in cellpose_predicted_masks]\n",
    "cellpose_cyto_predicted_masks_binary = [np.where(mask>0,1,0) for mask in cellpose_cyto_predicted_masks]"
   ]
  },
  {
   "cell_type": "code",
   "execution_count": 33,
   "metadata": {},
   "outputs": [
    {
     "name": "stdout",
     "output_type": "stream",
     "text": [
      "IoU between cellpose trained and groundtruth:  0.21182149734420092\n",
      "Dice coeff between cellpose trained and groundtruth:  0.3493621693404443\n",
      "IoU between cellpose 'cyto' and groundtruth:  0.07610879702163514\n",
      "Dice coeff between cellpose 'cyto' and groundtruth:  0.1414164945667137\n",
      "IoU between distilled U-Net and groundtruth:  0.07672062126296861\n",
      "Dice coeff between distilled U-Net and groundtruth:  0.14247836277167722\n"
     ]
    }
   ],
   "source": [
    "#Get IoU and dice coeff between cellpose trained and groundtruth\n",
    "print(\"IoU between cellpose trained and groundtruth: \", get_IoU(cellpose_predicted_masks_binary, masks_02_test_binary))\n",
    "print(\"Dice coeff between cellpose trained and groundtruth: \", get_dice(cellpose_predicted_masks_binary, masks_02_test_binary))\n",
    "\n",
    "#Get IoU and dice coeff between cellpose 'cyto' and groundtruth\n",
    "print(\"IoU between cellpose 'cyto' and groundtruth: \", get_IoU(cellpose_cyto_predicted_masks_binary, masks_02_test_binary))\n",
    "print(\"Dice coeff between cellpose 'cyto' and groundtruth: \", get_dice(cellpose_cyto_predicted_masks_binary, masks_02_test_binary))\n",
    "\n",
    "#Get IoU and dice coeff between distilled U-Net and groundtruth\n",
    "print(\"IoU between distilled U-Net and groundtruth: \", get_IoU(distilled_predicted_masks, masks_02_test_binary))\n",
    "print(\"Dice coeff between distilled U-Net and groundtruth: \", get_dice(distilled_predicted_masks, masks_02_test_binary))"
   ]
  },
  {
   "cell_type": "code",
   "execution_count": 21,
   "metadata": {},
   "outputs": [
    {
     "name": "stdout",
     "output_type": "stream",
     "text": [
      "IoU between cellpose trained and cellpose 'cyto' predictions:  0.26420578382284404\n",
      "Dice coeff between cellpose trained and cellpose 'cyto' predictions:  0.4179438099609645\n"
     ]
    }
   ],
   "source": [
    "#Get IoU and dice coeff between cellpose trained and cellpose 'cyto' predictions\n",
    "print(\"IoU between cellpose trained and cellpose 'cyto' predictions: \", get_IoU(cellpose_predicted_masks_binary, cellpose_cyto_predicted_masks_binary))\n",
    "print(\"Dice coeff between cellpose trained and cellpose 'cyto' predictions: \", get_dice(cellpose_predicted_masks_binary, cellpose_cyto_predicted_masks_binary))"
   ]
  },
  {
   "cell_type": "code",
   "execution_count": 34,
   "metadata": {},
   "outputs": [
    {
     "name": "stdout",
     "output_type": "stream",
     "text": [
      "IoU between distilled U-Net and cellpose trained:  0.26588922437791973\n",
      "Dice coeff between distilled U-Net and cellpose trained:  0.42005711997575107\n",
      "IoU between distilled U-Net and cellpose 'cyto':  0.9350706966050253\n",
      "Dice coeff between distilled U-Net and cellpose 'cyto':  0.966438367836746\n"
     ]
    }
   ],
   "source": [
    "#These are the distillation results\n",
    "#Get IoU and dice coeff between distilled U-Net and groundtruth\n",
    "print(\"IoU between distilled U-Net and cellpose trained: \", get_IoU(distilled_predicted_masks, cellpose_predicted_masks_binary))\n",
    "print(\"Dice coeff between distilled U-Net and cellpose trained: \", get_dice(distilled_predicted_masks, cellpose_predicted_masks_binary))\n",
    "\n",
    "print(\"IoU between distilled U-Net and cellpose 'cyto': \", get_IoU(distilled_predicted_masks, cellpose_cyto_predicted_masks_binary))\n",
    "print(\"Dice coeff between distilled U-Net and cellpose 'cyto': \", get_dice(distilled_predicted_masks, cellpose_cyto_predicted_masks_binary))"
   ]
  }
 ],
 "metadata": {
  "kernelspec": {
   "display_name": "Python 3.8.16 ('cellposeM1Test')",
   "language": "python",
   "name": "python3"
  },
  "language_info": {
   "codemirror_mode": {
    "name": "ipython",
    "version": 3
   },
   "file_extension": ".py",
   "mimetype": "text/x-python",
   "name": "python",
   "nbconvert_exporter": "python",
   "pygments_lexer": "ipython3",
   "version": "3.8.16"
  },
  "orig_nbformat": 4,
  "vscode": {
   "interpreter": {
    "hash": "4f65d5b6abfa53011d68ab82fd1489e7cea300d919d070ac238b9bc4ccfba83b"
   }
  }
 },
 "nbformat": 4,
 "nbformat_minor": 2
}
