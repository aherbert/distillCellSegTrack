{
 "cells": [
  {
   "cell_type": "code",
   "execution_count": null,
   "metadata": {},
   "outputs": [],
   "source": [
    "import numpy as np\n",
    "from os import listdir\n",
    "from os.path import isfile, join\n",
    "import tifffile\n",
    "from cellpose import models, io, core\n",
    "import time\n",
    "from sklearn.model_selection import train_test_split\n",
    "from statistics import mean"
   ]
  },
  {
   "cell_type": "code",
   "execution_count": null,
   "metadata": {},
   "outputs": [],
   "source": [
    "def get_data(path, num_imgs=4):\n",
    "\n",
    "    images_path = path + '01/'\n",
    "    onlyfiles = [f for f in listdir(images_path) if isfile(join(images_path, f))]\n",
    "    onlyfiles.sort(key=lambda f: int(''.join(filter(str.isdigit, f))))\n",
    "    if num_imgs > len(onlyfiles): num_imgs = len(onlyfiles)\n",
    "    images = [np.squeeze(tifffile.imread(images_path +  onlyfiles[i])) for i in range(num_imgs)]\n",
    "    images = [(image-np.min(image))/(np.max(image)-np.min(image)) for image in images]\n",
    "    \n",
    "    masks_path = path + '01_GT/TRA/'\n",
    "    onlyfiles = [f for f in listdir(masks_path) if isfile(join(masks_path, f))][1:]\n",
    "    onlyfiles.sort(key=lambda f: int(''.join(filter(str.isdigit, f))))\n",
    "    if num_imgs > len(onlyfiles): num_imgs = len(onlyfiles)\n",
    "    masks = [np.squeeze(tifffile.imread(masks_path +  onlyfiles[i])) for i in range(num_imgs)]\n",
    "    #binarise the masks\n",
    "    #masks = [np.where(mask>0,1,0) for mask in masks]\n",
    "\n",
    "    return images, masks"
   ]
  }
 ],
 "metadata": {
  "kernelspec": {
   "display_name": "Python 3",
   "language": "python",
   "name": "python3"
  },
  "language_info": {
   "name": "python",
   "version": "3.8.16"
  },
  "orig_nbformat": 4
 },
 "nbformat": 4,
 "nbformat_minor": 2
}
