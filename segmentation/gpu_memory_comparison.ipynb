{
 "cells": [
  {
   "cell_type": "code",
   "execution_count": 1,
   "metadata": {},
   "outputs": [],
   "source": [
    "from pynvml import *\n",
    "from os import listdir\n",
    "from os.path import isfile, join\n",
    "import numpy as np\n",
    "import tifffile"
   ]
  },
  {
   "cell_type": "code",
   "execution_count": 2,
   "metadata": {},
   "outputs": [],
   "source": [
    "def get_files(path,normalise=False,remove_txt=False):\n",
    "    onlyfiles = [f for f in listdir(path) if isfile(join(path, f))]\n",
    "\n",
    "    if remove_txt:\n",
    "        onlyfiles = [val for val in onlyfiles if not val.endswith(\".txt\")]\n",
    "\n",
    "    onlyfiles.sort(key=lambda f: int(''.join(filter(str.isdigit, f))))\n",
    "    #if num_imgs > len(onlyfiles): num_imgs = len(onlyfiles)\n",
    "    files = [np.squeeze(tifffile.imread(path +  onlyfiles[i])) for i in range(len(onlyfiles))]\n",
    "    \n",
    "    if normalise:\n",
    "        mean = np.mean(files)\n",
    "        std = np.std(files)\n",
    "        standardized_files = [(image-mean)/std for image in files]\n",
    "        return standardized_files\n",
    "    \n",
    "    return files\n",
    "    \n",
    "def get_data(path, set='01',normalise_images=True):\n",
    "\n",
    "    if len(set) == 2: #set 01 or set 02\n",
    "        images_path = path + set + '/'\n",
    "        images = get_files(images_path,normalise=normalise_images)\n",
    "        masks_path = path + set + '_GT/TRA/'\n",
    "        masks = get_files(masks_path,remove_txt=True)\n",
    "    elif set == '0102': #both sets\n",
    "        images_path = path + '01/'\n",
    "        images_01 = get_files(images_path,normalise=normalise_images)\n",
    "        images_path = path + '02/'\n",
    "        images_02 = get_files(images_path,normalise=normalise_images)\n",
    "        images = images_01 + images_02\n",
    "\n",
    "        masks_path = path + '01_GT/TRA/'\n",
    "        masks_01 = get_files(masks_path,remove_txt=True)\n",
    "        masks_path = path + '02_GT/TRA/'\n",
    "        masks_02 = get_files(masks_path,remove_txt=True)\n",
    "        masks = masks_01 + masks_02\n",
    "    else:\n",
    "        images = []\n",
    "        masks = []\n",
    "\n",
    "    return images, masks\n",
    "\n",
    "\n",
    "images, masks = get_data(\"c:\\\\Users\\\\rz200\\\\Documents\\\\development\\\\distillCellSegTrack\\\\\" + 'datasets/Fluo-N2DH-GOWT1/', set='0102', normalise_images=False)"
   ]
  },
  {
   "cell_type": "code",
   "execution_count": 3,
   "metadata": {},
   "outputs": [
    {
     "name": "stdout",
     "output_type": "stream",
     "text": [
      "0\n"
     ]
    },
    {
     "name": "stderr",
     "output_type": "stream",
     "text": [
      "c:\\Users\\rz200\\AppData\\Local\\anaconda3\\envs\\cellprob\\lib\\site-packages\\tqdm\\auto.py:21: TqdmWarning: IProgress not found. Please update jupyter and ipywidgets. See https://ipywidgets.readthedocs.io/en/stable/user_install.html\n",
      "  from .autonotebook import tqdm as notebook_tqdm\n"
     ]
    }
   ],
   "source": [
    "import torch\n",
    "print(torch.cuda.memory_allocated(0))"
   ]
  },
  {
   "cell_type": "code",
   "execution_count": 4,
   "metadata": {},
   "outputs": [],
   "source": [
    "def split_image(img):\n",
    "    \n",
    "    # Split the input array into smaller arrays of size 256x256\n",
    "    sub_images = []\n",
    "    for i in range(0, img.shape[0], 256):\n",
    "        for j in range(0, img.shape[1], 256):\n",
    "            sub_img = img[i:i+256, j:j+256]\n",
    "            sub_images.append(sub_img)\n",
    "            \n",
    "    return sub_images"
   ]
  },
  {
   "cell_type": "code",
   "execution_count": 14,
   "metadata": {},
   "outputs": [],
   "source": [
    "#import cellpose model\n",
    "from cellpose import models\n",
    "from cellpose import core\n",
    "import torch\n",
    "import time\n",
    "from u_net import UNet\n",
    "\n",
    "nvmlInit()\n",
    "h = nvmlDeviceGetHandleByIndex(0)\n",
    "info = nvmlDeviceGetMemoryInfo(h)\n",
    "memory_before = torch.cuda.memory_allocated(0)\n",
    "memory_used_list = []\n",
    "times_taken_list = []\n",
    "model = UNet()\n",
    "model.to(\"cuda:0\")\n",
    "#model.load_state_dict(torch.load(\"c:\\\\Users\\\\rz200\\\\Documents\\\\development\\\\distillCellSegTrack\\\\segmentation\\\\train_dir\\\\models\\\\distillation_model_GOWT1_5\"))\n",
    "model.load_state_dict(torch.load(\"c:\\\\Users\\\\rz200\\\\Documents\\\\development\\\\distillCellSegTrack\\\\segmentation\\\\train_dir\\\\models\\\\unet_no_distillation_GOWT1\"))\n",
    "\n",
    "model.eval()\n",
    "for i in range(len(images)):\n",
    "    image = images[i]\n",
    "\n",
    "    \n",
    "    \n",
    "    #model = models.CellposeModel(gpu=core.use_gpu(), device=torch.device(\"cuda:0\"), pretrained_model=\"c:\\\\Users\\\\rz200\\\\Documents\\\\development\\\\distillCellSegTrack\\\\segmentation\\\\train_dir\\\\models\\\\cellpose_trained_model_SIM_4\")\n",
    "    \n",
    "    splitted = split_image(image)\n",
    "    torched_splitted = [torch.from_numpy(split).to('cuda:0') for split in splitted]\n",
    "    start = time.time()\n",
    "    for split in torched_splitted:\n",
    "        #split = torch.from_numpy(split)\n",
    "        split = split.unsqueeze(0)\n",
    "        split = split.unsqueeze(0)\n",
    "        prediction = model(split)\n",
    "        \n",
    "        del split\n",
    "    times_taken_list.append(time.time() - start)\n",
    "    #model = model.eval()\n",
    "\n",
    "    \n",
    "\n",
    "    memory_used = torch.cuda.memory_allocated(0)\n",
    "    memory_used_list.append(memory_used)"
   ]
  },
  {
   "cell_type": "code",
   "execution_count": 15,
   "metadata": {},
   "outputs": [
    {
     "name": "stdout",
     "output_type": "stream",
     "text": [
      "46610432\n",
      "0.0\n",
      "44.451171875\n",
      "0.0\n"
     ]
    }
   ],
   "source": [
    "from statistics import mean, stdev\n",
    "\n",
    "print(mean(memory_used_list))\n",
    "print(stdev(memory_used_list))\n",
    "\n",
    "print(mean(memory_used_list)/1024**2)\n",
    "print(stdev(memory_used_list)/1024**2)"
   ]
  },
  {
   "cell_type": "code",
   "execution_count": 16,
   "metadata": {},
   "outputs": [
    {
     "name": "stdout",
     "output_type": "stream",
     "text": [
      "15.278248683266018\n",
      "1.6860235199548168\n"
     ]
    }
   ],
   "source": [
    "print(mean(times_taken_list)*1000)\n",
    "print(stdev(times_taken_list)*1000)"
   ]
  },
  {
   "cell_type": "code",
   "execution_count": 12,
   "metadata": {},
   "outputs": [
    {
     "name": "stdout",
     "output_type": "stream",
     "text": [
      "[0.016002893447875977, 0.01601409912109375, 0.01501011848449707, 0.015023231506347656, 0.015003442764282227, 0.015009403228759766, 0.01512765884399414, 0.01501321792602539, 0.015014171600341797, 0.01600337028503418, 0.015015363693237305, 0.014014482498168945, 0.015003442764282227, 0.015016794204711914, 0.01501607894897461, 0.01500248908996582, 0.015003681182861328, 0.015165090560913086, 0.0150146484375, 0.016003131866455078, 0.016002416610717773, 0.015013694763183594, 0.015748023986816406, 0.015999794006347656, 0.01500248908996582, 0.015003204345703125, 0.01500558853149414, 0.015007257461547852, 0.015006303787231445, 0.01452779769897461, 0.015015840530395508, 0.015006303787231445, 0.015003204345703125, 0.015003204345703125, 0.016002893447875977, 0.01400613784790039, 0.015002727508544922, 0.015004396438598633, 0.015006065368652344, 0.015002012252807617, 0.015999794006347656, 0.015235185623168945, 0.015012979507446289, 0.01500082015991211, 0.01500844955444336, 0.016002893447875977, 0.015003442764282227, 0.015000581741333008, 0.015003681182861328, 0.015006542205810547, 0.01596212387084961, 0.015003442764282227, 0.015006542205810547, 0.015000581741333008, 0.014483928680419922, 0.015003204345703125, 0.015002965927124023, 0.015002965927124023, 0.01400303840637207, 0.015002965927124023, 0.014999628067016602, 0.01500391960144043, 0.015363931655883789, 0.015001296997070312, 0.014003753662109375, 0.015003204345703125, 0.014999866485595703, 0.01601696014404297, 0.014003753662109375, 0.015000104904174805, 0.0149993896484375, 0.018999576568603516, 0.02200603485107422, 0.016003131866455078, 0.016002893447875977, 0.0160062313079834, 0.015013456344604492, 0.015010356903076172, 0.014999866485595703, 0.01500844955444336, 0.015004158020019531, 0.014004230499267578, 0.014999628067016602, 0.015002965927124023, 0.015006780624389648, 0.016290664672851562, 0.01512765884399414, 0.015013694763183594, 0.015017271041870117, 0.014999628067016602, 0.014003753662109375, 0.015013456344604492, 0.014999628067016602, 0.016000032424926758, 0.014016866683959961, 0.015020608901977539, 0.015999317169189453, 0.014003515243530273, 0.015003442764282227, 0.015002727508544922, 0.015006065368652344, 0.015003204345703125, 0.01600360870361328, 0.015000343322753906, 0.015003442764282227, 0.015003204345703125, 0.015000581741333008, 0.01500701904296875, 0.01600360870361328, 0.015002965927124023, 0.014999628067016602, 0.015145540237426758, 0.014998674392700195, 0.015019893646240234, 0.015000104904174805, 0.01500558853149414, 0.016013145446777344, 0.01501607894897461, 0.015002965927124023, 0.015003204345703125, 0.014510869979858398, 0.015018939971923828, 0.016003847122192383, 0.015013456344604492, 0.01402592658996582, 0.015002727508544922, 0.015012979507446289, 0.015014171600341797, 0.016000032424926758, 0.016003847122192383, 0.015002727508544922, 0.014349699020385742, 0.01599431037902832, 0.015024423599243164, 0.015013933181762695, 0.015012979507446289, 0.015013694763183594, 0.015006542205810547, 0.014014244079589844, 0.014998435974121094, 0.015013694763183594, 0.015003204345703125, 0.015003681182861328, 0.015017986297607422, 0.014012813568115234, 0.014002799987792969, 0.015003442764282227, 0.015000104904174805, 0.015004158020019531, 0.016512393951416016, 0.014999866485595703, 0.01500248908996582, 0.01500558853149414, 0.017998695373535156, 0.01601886749267578, 0.014004945755004883, 0.015014171600341797, 0.01500391960144043, 0.014013290405273438, 0.015017509460449219, 0.016002893447875977, 0.015018224716186523, 0.014014244079589844, 0.014013290405273438, 0.014880180358886719, 0.015012025833129883, 0.015004396438598633, 0.014000415802001953, 0.014999628067016602, 0.015025854110717773, 0.01501321792602539, 0.015005826950073242, 0.014002561569213867, 0.01401376724243164, 0.015002965927124023, 0.0150146484375, 0.014015674591064453, 0.015003204345703125, 0.015047550201416016, 0.014999866485595703, 0.014013528823852539, 0.014003276824951172, 0.015003204345703125, 0.015014171600341797]\n"
     ]
    }
   ],
   "source": [
    "print(times_taken_list)"
   ]
  },
  {
   "cell_type": "code",
   "execution_count": 8,
   "metadata": {},
   "outputs": [
    {
     "name": "stdout",
     "output_type": "stream",
     "text": [
      "[2.143925189971924, 0.033075809478759766, 0.03326773643493652, 0.03314495086669922, 0.032013893127441406, 0.032004594802856445, 0.03224039077758789, 0.03199458122253418, 0.03301095962524414, 0.033006906509399414, 0.031023263931274414, 0.03099989891052246, 0.03200054168701172, 0.0299990177154541, 0.03140425682067871, 0.0321660041809082, 0.0319981575012207, 0.031007766723632812, 0.0300137996673584, 0.031226158142089844, 0.030504703521728516, 0.031362295150756836, 0.030997514724731445, 0.03201031684875488, 0.030918598175048828, 0.031295061111450195, 0.03125929832458496, 0.031000137329101562, 0.03199934959411621, 0.03200268745422363, 0.031009674072265625, 0.03299546241760254, 0.03400301933288574, 0.03262925148010254, 0.03101325035095215, 0.03399038314819336, 0.04300260543823242, 0.03300023078918457, 0.03101038932800293, 0.03206634521484375, 0.03202033042907715, 0.03000807762145996, 0.031008243560791016, 0.03000807762145996, 0.030007362365722656, 0.032000064849853516, 0.029999494552612305, 0.031009197235107422, 0.03100752830505371, 0.032000064849853516, 0.029999732971191406, 0.03101634979248047, 0.03201580047607422, 0.03099989891052246, 0.031015872955322266, 0.031008243560791016, 0.031012535095214844, 0.031035184860229492, 0.031007766723632812, 0.031007766723632812, 0.03099966049194336, 0.029999732971191406, 0.031999826431274414, 0.032000064849853516, 0.032999515533447266, 0.030999422073364258, 0.03155779838562012, 0.030311107635498047, 0.031007766723632812, 0.03099989891052246, 0.031007766723632812, 0.03200793266296387, 0.032039642333984375, 0.03099966049194336, 0.03099989891052246, 0.03099989891052246, 0.03201556205749512, 0.031008005142211914, 0.03199958801269531, 0.031008481979370117, 0.03100728988647461, 0.031007766723632812, 0.031007766723632812, 0.031049251556396484, 0.034999847412109375, 0.03200793266296387, 0.031000137329101562, 0.03300905227661133, 0.031008243560791016, 0.032007455825805664, 0.03202533721923828, 0.03300786018371582, 0.031008481979370117, 0.032000064849853516, 0.030999422073364258, 0.030023813247680664, 0.031000137329101562, 0.031007766723632812, 0.03199958801269531, 0.032007694244384766, 0.03003215789794922, 0.03000044822692871, 0.03201580047607422, 0.032000064849853516, 0.03199958801269531, 0.031008243560791016, 0.03251457214355469, 0.0311582088470459, 0.032007455825805664, 0.03099966049194336, 0.03200960159301758, 0.031006574630737305, 0.030999422073364258, 0.03199958801269531, 0.031007766723632812, 0.029999971389770508, 0.03209400177001953, 0.03099966049194336, 0.03100752830505371, 0.03201699256896973, 0.031015872955322266, 0.03001570701599121, 0.03099989891052246, 0.03099966049194336, 0.033016204833984375, 0.03200817108154297, 0.03300881385803223, 0.03300809860229492, 0.032007455825805664, 0.03099966049194336, 0.03200817108154297, 0.030007600784301758, 0.031007766723632812, 0.031015872955322266, 0.031999826431274414, 0.03200793266296387, 0.03200793266296387, 0.029999494552612305, 0.03000020980834961, 0.03099966049194336, 0.03199958801269531, 0.032000064849853516, 0.03199934959411621, 0.031026840209960938, 0.031012773513793945, 0.029999971389770508, 0.030008316040039062, 0.031008243560791016, 0.031008005142211914, 0.031008481979370117, 0.031999826431274414, 0.031017065048217773, 0.031008243560791016, 0.031000137329101562, 0.03151535987854004, 0.031999826431274414, 0.03007793426513672, 0.031007766723632812, 0.05600166320800781, 0.031998395919799805, 0.031290531158447266, 0.032009124755859375, 0.03211212158203125, 0.03120732307434082, 0.03099966049194336, 0.031014442443847656, 0.031115055084228516, 0.029994487762451172, 0.03301501274108887, 0.03300023078918457, 0.030998945236206055, 0.031450510025024414, 0.03099966049194336, 0.031999826431274414, 0.03199648857116699, 0.03099966049194336, 0.032003164291381836, 0.030007600784301758, 0.03100299835205078, 0.03299689292907715, 0.031999826431274414, 0.03401303291320801, 0.03249788284301758, 0.03099989891052246]\n"
     ]
    }
   ],
   "source": [
    "print(times_taken_list)"
   ]
  },
  {
   "cell_type": "code",
   "execution_count": 29,
   "metadata": {},
   "outputs": [
    {
     "name": "stdout",
     "output_type": "stream",
     "text": [
      "-1009254.4\n"
     ]
    }
   ],
   "source": [
    "memory_standard = []\n",
    "for mem in memory_used_list:\n",
    "    memory_standard.append(mem-memory_before)\n",
    "print(mean(memory_standard))"
   ]
  },
  {
   "cell_type": "code",
   "execution_count": 16,
   "metadata": {},
   "outputs": [
    {
     "name": "stdout",
     "output_type": "stream",
     "text": [
      "Fri May 12 15:30:03 2023       \n",
      "+-----------------------------------------------------------------------------+\n",
      "| NVIDIA-SMI 516.01       Driver Version: 516.01       CUDA Version: 11.7     |\n",
      "|-------------------------------+----------------------+----------------------+\n",
      "| GPU  Name            TCC/WDDM | Bus-Id        Disp.A | Volatile Uncorr. ECC |\n",
      "| Fan  Temp  Perf  Pwr:Usage/Cap|         Memory-Usage | GPU-Util  Compute M. |\n",
      "|                               |                      |               MIG M. |\n",
      "|===============================+======================+======================|\n",
      "|   0  NVIDIA RTX A4000   WDDM  | 00000000:01:00.0  On |                  Off |\n",
      "| 41%   34C    P8    15W / 140W |   2402MiB / 16376MiB |     32%      Default |\n",
      "|                               |                      |                  N/A |\n",
      "+-------------------------------+----------------------+----------------------+\n",
      "                                                                               \n",
      "+-----------------------------------------------------------------------------+\n",
      "| Processes:                                                                  |\n",
      "|  GPU   GI   CI        PID   Type   Process name                  GPU Memory |\n",
      "|        ID   ID                                                   Usage      |\n",
      "|=============================================================================|\n",
      "|    0   N/A  N/A      2132    C+G   ...eripheral Manager\\DPM.exe    N/A      |\n",
      "|    0   N/A  N/A      3244    C+G   ...icrosoft VS Code\\Code.exe    N/A      |\n",
      "|    0   N/A  N/A      6180    C+G   ...artMenuExperienceHost.exe    N/A      |\n",
      "|    0   N/A  N/A      6316    C+G   ...5n1h2txyewy\\SearchApp.exe    N/A      |\n",
      "|    0   N/A  N/A     19800    C+G   ...bbwe\\Microsoft.Photos.exe    N/A      |\n",
      "|    0   N/A  N/A     20460    C+G   ...2txyewy\\TextInputHost.exe    N/A      |\n",
      "|    0   N/A  N/A     21332    C+G   ...zf8qxf38zg5c\\SkypeApp.exe    N/A      |\n",
      "|    0   N/A  N/A     22176    C+G   ...Anywhere\\AppsAnywhere.exe    N/A      |\n",
      "|    0   N/A  N/A     22508    C+G   ...me\\Application\\chrome.exe    N/A      |\n",
      "|    0   N/A  N/A     23948    C+G   C:\\Windows\\explorer.exe         N/A      |\n",
      "|    0   N/A  N/A     27592    C+G   ...y\\ShellExperienceHost.exe    N/A      |\n",
      "|    0   N/A  N/A     27604    C+G   ...ystem32\\UevAppMonitor.exe    N/A      |\n",
      "|    0   N/A  N/A     27616    C+G   ...oft OneDrive\\OneDrive.exe    N/A      |\n",
      "|    0   N/A  N/A     27964    C+G   ...ge\\Application\\msedge.exe    N/A      |\n",
      "|    0   N/A  N/A     31088    C+G   ...Box\\Box Edit\\Box Edit.exe    N/A      |\n",
      "|    0   N/A  N/A     34844      C   ...\\envs\\cellprob\\python.exe    N/A      |\n",
      "+-----------------------------------------------------------------------------+\n"
     ]
    }
   ],
   "source": [
    "!nvidia-smi"
   ]
  },
  {
   "cell_type": "code",
   "execution_count": 99,
   "metadata": {},
   "outputs": [
    {
     "data": {
      "text/plain": [
       "26501120"
      ]
     },
     "execution_count": 99,
     "metadata": {},
     "output_type": "execute_result"
    }
   ],
   "source": [
    "torch.cuda.memory_allocated(0)"
   ]
  },
  {
   "cell_type": "code",
   "execution_count": 115,
   "metadata": {},
   "outputs": [
    {
     "name": "stdout",
     "output_type": "stream",
     "text": [
      "9\n"
     ]
    }
   ],
   "source": [
    "apples_before = 10\n",
    "\n",
    "appleds_now = 11\n",
    "\n",
    "apples_taken = apples_before - take_apple\n",
    "print(apples_after)"
   ]
  },
  {
   "cell_type": "code",
   "execution_count": 73,
   "metadata": {},
   "outputs": [
    {
     "name": "stdout",
     "output_type": "stream",
     "text": [
      "total    : 17171480576\n",
      "free     : 14666846208\n",
      "used     : 2504634368\n"
     ]
    }
   ],
   "source": [
    "nvmlInit()\n",
    "h = nvmlDeviceGetHandleByIndex(0)\n",
    "info = nvmlDeviceGetMemoryInfo(h)\n",
    "\n",
    "print(f'total    : {info.total}')\n",
    "print(f'free     : {info.free}')\n",
    "print(f'used     : {info.used}')"
   ]
  }
 ],
 "metadata": {
  "kernelspec": {
   "display_name": "Python 3",
   "language": "python",
   "name": "python3"
  },
  "language_info": {
   "codemirror_mode": {
    "name": "ipython",
    "version": 3
   },
   "file_extension": ".py",
   "mimetype": "text/x-python",
   "name": "python",
   "nbconvert_exporter": "python",
   "pygments_lexer": "ipython3",
   "version": "3.8.16"
  },
  "orig_nbformat": 4
 },
 "nbformat": 4,
 "nbformat_minor": 2
}
