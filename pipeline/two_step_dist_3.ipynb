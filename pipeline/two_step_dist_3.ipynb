{
 "cells": [
  {
   "cell_type": "code",
   "execution_count": 1,
   "metadata": {},
   "outputs": [
    {
     "name": "stderr",
     "output_type": "stream",
     "text": [
      "c:\\Users\\rz200\\AppData\\Local\\anaconda3\\envs\\cellprob\\lib\\site-packages\\tqdm\\auto.py:21: TqdmWarning: IProgress not found. Please update jupyter and ipywidgets. See https://ipywidgets.readthedocs.io/en/stable/user_install.html\n",
      "  from .autonotebook import tqdm as notebook_tqdm\n"
     ]
    }
   ],
   "source": [
    "from import_images import getImages\n",
    "import numpy as np\n",
    "import torch\n",
    "from cellpose import resnet_torch\n",
    "from cellpose import transforms\n",
    "import cv2\n",
    "import time\n",
    "from unet_architecture import UNet\n",
    "import torch\n",
    "from torch.utils.data import Dataset, DataLoader\n",
    "import torch.nn.functional as F\n",
    "import torchvision.transforms as T\n",
    "from torchmetrics.classification import BinaryJaccardIndex\n",
    "import torchvision\n",
    "import numpy as np\n",
    "from sklearn.model_selection import train_test_split\n",
    "import matplotlib.pyplot as plt"
   ]
  },
  {
   "cell_type": "code",
   "execution_count": 2,
   "metadata": {},
   "outputs": [],
   "source": [
    "def get_pre_activations(image,cpnet):\n",
    "\n",
    "    x = transforms.resize_image(image, rsz=cpnet.diam_mean/cpnet.diam_labels,no_channels=True).astype(np.float32)\n",
    "    x = np.expand_dims(x, axis=0)\n",
    "    x = np.concatenate((x, x), axis=0)\n",
    "    x = torch.from_numpy(x).unsqueeze(0)\n",
    "\n",
    "    downsample = cpnet.downsample(x)\n",
    "    style = cpnet.make_style(downsample[-1])\n",
    "    upsample = cpnet.upsample(style, downsample, cpnet.mkldnn)\n",
    "\n",
    "    output = cpnet.output(upsample).squeeze(0)[2]\n",
    "    output = output.cpu().detach().numpy()\n",
    "    output = cv2.resize(output, dsize=(1024, 1024), interpolation=cv2.INTER_NEAREST)\n",
    "    output = np.array(output)\n",
    "\n",
    "    upsample = upsample.squeeze(0)\n",
    "    upsample = upsample.cpu().detach().numpy().tolist()\n",
    "    for (k, image) in enumerate(upsample):\n",
    "        upsample[k] = cv2.resize(np.array(image), dsize=(1024, 1024), interpolation=cv2.INTER_NEAREST)\n",
    "    upsample = np.array(upsample)\n",
    "\n",
    "    return upsample, output"
   ]
  },
  {
   "cell_type": "code",
   "execution_count": 3,
   "metadata": {},
   "outputs": [],
   "source": [
    "class ImageDataset(Dataset):\n",
    "    def __init__(self, image, upsample, cellprob):\n",
    "        self.image = image\n",
    "        self.upsample = upsample\n",
    "        self.cellprob = cellprob\n",
    "\n",
    "    def __len__(self):\n",
    "        return len(self.image)\n",
    "\n",
    "    def __getitem__(self, idx):\n",
    "        img = self.image[idx]\n",
    "        upsample = self.upsample[idx]\n",
    "        cellprob = self.cellprob[idx]\n",
    "        return img, upsample, cellprob\n",
    "    \n",
    "def get_crops(image,size):\n",
    "    assert image.shape[0]%size == 0\n",
    "    assert image.shape[0] == image.shape[1]\n",
    "    crops = []\n",
    "    for i in range(0,image.shape[0],size):\n",
    "        for j in range(0,image.shape[1],size):\n",
    "            crops.append(image[i:i+size,j:j+size])\n",
    "    return crops\n",
    "\n",
    "def reconstruct_image(crops, size):\n",
    "    assert len(crops) > 0\n",
    "    image_size = 1024\n",
    "    size = 256\n",
    "    image = np.zeros((image_size, image_size), dtype=np.uint8)\n",
    "    crop_idx = 0\n",
    "    for i in range(0, image_size, size):\n",
    "        for j in range(0, image_size, size):\n",
    "            image[i:i+size, j:j+size] = crops[crop_idx]\n",
    "            crop_idx += 1\n",
    "    return image\n",
    "\n",
    "def get_data(images, cpnet):\n",
    "    cp_upsamples = []\n",
    "    cp_outputs = []\n",
    "    for image in images:\n",
    "        upsample, output = get_pre_activations(image,cpnet)\n",
    "        cp_upsamples.append(upsample)\n",
    "        cp_outputs.append(output)\n",
    "\n",
    "    images_torch = torch.from_numpy(np.array(images))\n",
    "    train_images, test_images, train_upsamples, test_upsamples, train_cellprob, test_cellprob = train_test_split(images_torch, cp_upsamples, cp_outputs, test_size=0.1, random_state=42)\n",
    "\n",
    "\n",
    "    images_normalised = []\n",
    "    for image in train_images:\n",
    "        min_val = torch.min(image)\n",
    "        max_val = torch.max(image)\n",
    "        normalized_image = (image - min_val) / (max_val - min_val)\n",
    "        images_normalised.append(normalized_image)\n",
    "\n",
    "    images_torch_rotated = []\n",
    "    for image in images_normalised:\n",
    "        images_torch_rotated.append(image)\n",
    "        for i in range(3):\n",
    "            image = torch.rot90(image, 1, [0, 1])\n",
    "            images_torch_rotated.append(image)\n",
    "\n",
    "    images_torch_rotated_flipped = []\n",
    "    for image in images_torch_rotated:\n",
    "        images_torch_rotated_flipped.append(image)\n",
    "        images_torch_rotated_flipped.append(torch.flip(image, [1]))\n",
    "\n",
    "    cp_upsamples_normalised = []\n",
    "    for upsample in train_upsamples:\n",
    "        min_val = np.min(upsample)\n",
    "        max_val = np.max(upsample)\n",
    "        normalized_upsample = (upsample - min_val) / (max_val - min_val)\n",
    "        cp_upsamples_normalised.append(normalized_upsample)\n",
    "\n",
    "    cp_upsamples_rotated = []\n",
    "    for upsample in cp_upsamples_normalised:\n",
    "        cp_upsamples_rotated.append(upsample)\n",
    "        for i in range(3):\n",
    "            upsample = np.rot90(upsample, 1, [1, 2])\n",
    "            cp_upsamples_rotated.append(upsample)\n",
    "\n",
    "    cp_upsamples_rotated_flipped = []\n",
    "    for upsample in cp_upsamples_rotated:\n",
    "        cp_upsamples_rotated_flipped.append(upsample)\n",
    "        cp_upsamples_rotated_flipped.append(np.flip(upsample, [2]))\n",
    "\n",
    "    cp_outputs_rotated = []\n",
    "    for output in train_cellprob:\n",
    "        cp_outputs_rotated.append(output)\n",
    "        for i in range(3):\n",
    "            output = np.rot90(output, 1, [0, 1])\n",
    "            cp_outputs_rotated.append(output)\n",
    "\n",
    "    cp_outputs_rotated_flipped = []\n",
    "    for output in cp_outputs_rotated:\n",
    "        cp_outputs_rotated_flipped.append(output)\n",
    "        cp_outputs_rotated_flipped.append(np.flip(output, [1]))\n",
    "\n",
    "    images_cropped = []\n",
    "    for image in images_torch_rotated_flipped:\n",
    "        crops = get_crops(image,256)\n",
    "        for crop in crops:\n",
    "            images_cropped.append(crop)\n",
    "\n",
    "    cp_upsampled_cropped = []\n",
    "    for (i,upsample) in enumerate(cp_upsamples_rotated_flipped):\n",
    "        crops_per_chan = []\n",
    "        for chan in upsample:\n",
    "            crops = get_crops(chan,256)\n",
    "            crops_per_chan.append(crops)\n",
    "\n",
    "        for j in range(16):\n",
    "            crop_channels_of_crop = []\n",
    "            for k in range(32):\n",
    "                crop_channels_of_crop.append(crops_per_chan[k][j])\n",
    "            crop_channels_of_crop = np.array(crop_channels_of_crop)\n",
    "            crop_channels_of_crop = crop_channels_of_crop.copy()\n",
    "            crop_channels_of_crop = torch.from_numpy(crop_channels_of_crop)\n",
    "            cp_upsampled_cropped.append(crop_channels_of_crop)\n",
    "\n",
    "    cp_outputs_cropped = []\n",
    "    for output in cp_outputs_rotated_flipped:\n",
    "        crops = get_crops(output,256)\n",
    "        for crop in crops:\n",
    "            crop = torch.from_numpy(crop.copy())\n",
    "            cp_outputs_cropped.append(crop)\n",
    "\n",
    "    return images_cropped, cp_upsampled_cropped, cp_outputs_cropped, test_images, test_upsamples, test_cellprob"
   ]
  },
  {
   "cell_type": "code",
   "execution_count": 4,
   "metadata": {},
   "outputs": [],
   "source": [
    "class KD_loss(torch.nn.Module):\n",
    "    def __init__(self, alpha, beta):\n",
    "        super(KD_loss, self).__init__()\n",
    "        self.alpha = alpha\n",
    "        self.beta = beta\n",
    "\n",
    "    def forward(self, y_32_pred, y_32_true, y_3_pred, y_3_true):\n",
    "        \n",
    "        #32-channel loss\n",
    "        y_32_pred = F.sigmoid(y_32_pred)\n",
    "        y_32_true = F.sigmoid(y_32_true)\n",
    "        y_32_loss = F.mse_loss(y_32_pred, y_32_true.float())\n",
    "\n",
    "        #3-channel loss\n",
    "        y_3_bce_loss = F.mse_loss(y_3_pred, y_3_true.float())\n",
    "\n",
    "        return y_32_loss * self.alpha, y_3_bce_loss * self.beta"
   ]
  },
  {
   "cell_type": "code",
   "execution_count": 17,
   "metadata": {},
   "outputs": [],
   "source": [
    "def trainEpoch(unet, train_loader, test_loader, validation_loader, loss_fn, optimiser, scheduler, epoch_num, device):\n",
    "    time_start = time.time()\n",
    "    \n",
    "    unet.train()\n",
    "\n",
    "    train_y_32_loss, train_map_loss = 0, 0\n",
    "\n",
    "    for image, upsample, cp_output in train_loader:\n",
    "\n",
    "        if device == 'mps':\n",
    "            image, upsample, cp_output = image.float(), upsample.float(), cp_output.float() #cast to float32 (important for mps)\n",
    "\n",
    "        if device is not None:\n",
    "            (image, upsample, cp_output) = (image.to(device),upsample.to(device),cp_output.to(device)) # sending the data to the device (cpu or GPU)\n",
    "\n",
    "        image = image.unsqueeze(1)\n",
    "        y_16_pred, y_32_pred, map_pred = unet(image)\n",
    "        y_32_pred = y_32_pred.squeeze(1)\n",
    "        map_pred = map_pred.squeeze(1)\n",
    "    \n",
    "        loss_32, loss_map = loss_fn(y_32_pred,  upsample, map_pred, cp_output) # calculate the loss of that prediction\n",
    "        train_y_32_loss += loss_32.item()\n",
    "        train_map_loss += loss_map.item()\n",
    "\n",
    "         # zero out the accumulated gradients\n",
    "\n",
    "        #I want to get two losses, one for the 32-channel output and one for the 3-channel output\n",
    "        #I then want to freeze certain channels before putting the losses backwards\n",
    "        unet.encoder.requires_grad = True #repetitive but just to be clear\n",
    "        unet.decoder.requires_grad = True\n",
    "        unet.head.requires_grad = False\n",
    "        loss_32.backward(retain_graph=True)\n",
    "\n",
    "        \n",
    "        unet.encoder.requires_grad = False\n",
    "        unet.decoder.requires_grad = False\n",
    "        unet.head.requires_grad = True\n",
    "        loss_map.backward(retain_graph=True)\n",
    "\n",
    "        optimiser.step() # update model parameters\n",
    "        optimiser.zero_grad()\n",
    "\n",
    "    if scheduler is not None:\n",
    "        scheduler.step()\n",
    "\n",
    "    train_y_32_loss, train_map_loss = train_y_32_loss/len(train_loader), train_map_loss/len(train_loader)\n",
    "\n",
    "\n",
    "    val_y_32_loss, val_map_loss, val_IoU = 0, 0, 0\n",
    "    for image, upsample, cp_output in validation_loader:\n",
    "        if device == 'mps':\n",
    "            image, upsample, cp_output = image.float(), upsample.float(), cp_output.float() #cast to float32 (important for mps)\n",
    "\n",
    "        if device is not None:\n",
    "            (image, upsample, cp_output) = (image.to(device),upsample.to(device),cp_output.to(device)) # sending the data to the device (cpu or GPU)\n",
    "\n",
    "        image = image.unsqueeze(1)\n",
    "        y_16_pred, y_32_pred, map_pred = unet(image)\n",
    "        y_32_pred = y_32_pred.squeeze(1)\n",
    "        map_pred = map_pred.squeeze(1)\n",
    "    \n",
    "        loss_32, loss_map = loss_fn(y_32_pred,  upsample, map_pred, cp_output) # calculate the loss of that prediction\n",
    "        val_y_32_loss += loss_32.item()\n",
    "        val_map_loss += loss_map.item()\n",
    "\n",
    "        #IoU score\n",
    "        jaccard = BinaryJaccardIndex(threshold=0.5).to(device)\n",
    "        map_pred = F.sigmoid(map_pred)\n",
    "        cp_output = F.sigmoid(cp_output)\n",
    "        cp_output = torch.where(cp_output > 0.5, 1.0, 0.0)\n",
    "        iou = jaccard(map_pred, cp_output)\n",
    "        if not torch.isnan(iou):\n",
    "            val_IoU += iou\n",
    "        else:\n",
    "            val_IoU += 0\n",
    "        \n",
    "\n",
    "    val_y_32_loss, val_map_loss, val_IoU = val_y_32_loss/len(validation_loader), val_map_loss/len(validation_loader), val_IoU/len(validation_loader)\n",
    "    \n",
    "    #we might add displaying later on\n",
    "    \n",
    "    if epoch_num is None:\n",
    "        print('Train 32 loss: ', train_y_32_loss,'Train map loss', train_map_loss, 'Val 32 loss: ', val_y_32_loss, 'Val map loss: ', val_map_loss, 'Val IoU: ', val_IoU, 'Time: ', time.time()-time_start)\n",
    "    else:\n",
    "        print('Epoch: ', epoch_num, 'Train 32 loss: ', train_y_32_loss,'Train map loss', train_map_loss, 'Val 32 loss: ', val_y_32_loss, 'Val map loss: ', val_map_loss, 'Val IoU: ', val_IoU, 'Time: ', time.time()-time_start)\n",
    "\n",
    "    return unet"
   ]
  },
  {
   "cell_type": "code",
   "execution_count": 6,
   "metadata": {},
   "outputs": [],
   "source": [
    "images_directory = \"C:\\\\Users\\\\rz200\\\\Documents\\\\development\\\\distillCellSegTrack\\\\pipeline\\\\uploads\\\\\"\n",
    "#images_directory = \"/Users/rehanzuberi/Documents/Development/distillCellSegTrack/pipeline/uploads\"\n",
    "file_names, images = getImages(images_directory)\n",
    "images_torch = torch.from_numpy(np.array(images))\n",
    "\n",
    "directory = \"C:\\\\Users\\\\rz200\\\\Documents\\\\development\\\\distillCellSegTrack\\\\datasets\\\\Fluo-C2DL-Huh7\\\\01\\\\models\\\\CP_20230601_101328\"\n",
    "#directory = \"/Users/rehanzuberi/Documents/Development/distillCellSegTrack/datasets/Fluo-C2DL-Huh7/01/models/CP_20230601_101328\"\n",
    "cpnet = resnet_torch.CPnet(nbase=[2,32,64,128,256],nout=3,sz=3)\n",
    "cpnet.load_model(directory)\n",
    "\n",
    "images_cropped, cp_upsampled_cropped, cp_outputs_cropped, test_images, test_upsamples, test_cellprob = get_data(images, cpnet)"
   ]
  },
  {
   "cell_type": "code",
   "execution_count": 7,
   "metadata": {},
   "outputs": [],
   "source": [
    "train_images, val_images, train_upsamples, val_upsamples, train_cellprob, val_cellprob = train_test_split(images_cropped, cp_upsampled_cropped, cp_outputs_cropped, test_size=0.1, random_state=42)\n",
    "\n",
    "num_train_images = 10\n",
    "train_dataset = ImageDataset(images_cropped, cp_upsampled_cropped, cp_outputs_cropped)\n",
    "train_loader = DataLoader(train_dataset, batch_size=1, shuffle=True)\n",
    "\n",
    "validation_dataset = ImageDataset(val_images, val_upsamples, val_cellprob)\n",
    "validation_loader = DataLoader(validation_dataset, batch_size=1, shuffle=True)\n",
    "\n",
    "test_dataset = ImageDataset(test_images, test_upsamples, test_cellprob)\n",
    "test_loader = DataLoader(test_dataset, batch_size=1, shuffle=True)"
   ]
  },
  {
   "cell_type": "code",
   "execution_count": 8,
   "metadata": {},
   "outputs": [],
   "source": [
    "unet = UNet(encChannels=(1,32,64,128,256),decChannels=(256,128,64,32),nbClasses=1)\n",
    "unet = unet.to('cuda:0')"
   ]
  },
  {
   "cell_type": "code",
   "execution_count": 18,
   "metadata": {},
   "outputs": [
    {
     "name": "stderr",
     "output_type": "stream",
     "text": [
      "c:\\Users\\rz200\\AppData\\Local\\anaconda3\\envs\\cellprob\\lib\\site-packages\\torch\\nn\\functional.py:1944: UserWarning: nn.functional.sigmoid is deprecated. Use torch.sigmoid instead.\n",
      "  warnings.warn(\"nn.functional.sigmoid is deprecated. Use torch.sigmoid instead.\")\n"
     ]
    },
    {
     "name": "stdout",
     "output_type": "stream",
     "text": [
      "Epoch:  0 Train 32 loss:  0.03568900783365178 Train map loss 39.363005401359665 Val 32 loss:  0.035717751862930844 Val map loss:  34.44917507829337 Val IoU:  tensor(0.4493, device='cuda:0') Time:  26.3678081035614\n",
      "Epoch:  1 Train 32 loss:  0.03605732778669335 Train map loss 3.8660736398952498 Val 32 loss:  0.036230350491301765 Val map loss:  1.8937366823826371 Val IoU:  tensor(0.5248, device='cuda:0') Time:  26.915451049804688\n",
      "Epoch:  2 Train 32 loss:  0.036108823493123055 Train map loss 2.0899248885559953 Val 32 loss:  0.03588921384050928 Val map loss:  1.9426379575683126 Val IoU:  tensor(0.4996, device='cuda:0') Time:  26.539201498031616\n",
      "Epoch:  3 Train 32 loss:  0.035301431195370644 Train map loss 2.0159608339890838 Val 32 loss:  0.03462135843161879 Val map loss:  1.8107419907725577 Val IoU:  tensor(0.5190, device='cuda:0') Time:  26.880010843276978\n",
      "Epoch:  4 Train 32 loss:  0.03416552767480931 Train map loss 1.9929214900411252 Val 32 loss:  0.03342814146187799 Val map loss:  1.7534691065164476 Val IoU:  tensor(0.5136, device='cuda:0') Time:  26.85692524909973\n"
     ]
    }
   ],
   "source": [
    "loss_fn = KD_loss(alpha=1, beta=1)\n",
    "optimiser = torch.optim.SGD(unet.parameters(), lr=0.1, momentum=0.1)\n",
    "\n",
    "#I think a decaying scheduler is best\n",
    "scheduler = torch.optim.lr_scheduler.CyclicLR(optimiser, base_lr=0.000001, max_lr=0.1)\n",
    "\n",
    "for epoch in range(500):\n",
    "    #print(scheduler.get_last_lr())\n",
    "    unet = trainEpoch(unet, train_loader, test_loader, validation_loader, loss_fn, optimiser, scheduler=scheduler, epoch_num=epoch, device='cuda:0')"
   ]
  },
  {
   "cell_type": "code",
   "execution_count": null,
   "metadata": {},
   "outputs": [],
   "source": [
    "torch.save(unet.state_dict(), 'unet_doubletrainfreeze_500epochs')"
   ]
  },
  {
   "cell_type": "code",
   "execution_count": null,
   "metadata": {},
   "outputs": [],
   "source": [
    "#now need to add post-processing and prediction functions and show some tests data\n",
    "#then will need to add the random seed weight test"
   ]
  },
  {
   "cell_type": "code",
   "execution_count": 15,
   "metadata": {},
   "outputs": [
    {
     "data": {
      "text/plain": [
       "0"
      ]
     },
     "execution_count": 15,
     "metadata": {},
     "output_type": "execute_result"
    }
   ],
   "source": [
    "import gc\n",
    "torch.cuda.empty_cache()\n",
    "gc.collect()"
   ]
  },
  {
   "cell_type": "code",
   "execution_count": 13,
   "metadata": {},
   "outputs": [
    {
     "name": "stdout",
     "output_type": "stream",
     "text": [
      "Thu Jun 22 19:23:28 2023       \n",
      "+-----------------------------------------------------------------------------+\n",
      "| NVIDIA-SMI 472.39       Driver Version: 472.39       CUDA Version: 11.4     |\n",
      "|-------------------------------+----------------------+----------------------+\n",
      "| GPU  Name            TCC/WDDM | Bus-Id        Disp.A | Volatile Uncorr. ECC |\n",
      "| Fan  Temp  Perf  Pwr:Usage/Cap|         Memory-Usage | GPU-Util  Compute M. |\n",
      "|                               |                      |               MIG M. |\n",
      "|===============================+======================+======================|\n",
      "|   0  NVIDIA RTX A4000   WDDM  | 00000000:01:00.0  On |                  Off |\n",
      "| 44%   54C    P2    39W / 140W |   2599MiB / 16376MiB |      0%      Default |\n",
      "|                               |                      |                  N/A |\n",
      "+-------------------------------+----------------------+----------------------+\n",
      "                                                                               \n",
      "+-----------------------------------------------------------------------------+\n",
      "| Processes:                                                                  |\n",
      "|  GPU   GI   CI        PID   Type   Process name                  GPU Memory |\n",
      "|        ID   ID                                                   Usage      |\n",
      "|=============================================================================|\n",
      "|    0   N/A  N/A      1424    C+G   ...5n1h2txyewy\\SearchApp.exe    N/A      |\n",
      "|    0   N/A  N/A      1780    C+G   Insufficient Permissions        N/A      |\n",
      "|    0   N/A  N/A      6948    C+G   ...5n1h2txyewy\\SearchApp.exe    N/A      |\n",
      "|    0   N/A  N/A     20788    C+G   ...y\\ShellExperienceHost.exe    N/A      |\n",
      "|    0   N/A  N/A     21736    C+G   ...artMenuExperienceHost.exe    N/A      |\n",
      "|    0   N/A  N/A     21896      C   ...\\envs\\cellprob\\python.exe    N/A      |\n",
      "|    0   N/A  N/A     24648      C   ...\\envs\\cellprob\\python.exe    N/A      |\n",
      "|    0   N/A  N/A     26148    C+G   C:\\Windows\\explorer.exe         N/A      |\n",
      "|    0   N/A  N/A     26824    C+G   ...Anywhere\\AppsAnywhere.exe    N/A      |\n",
      "|    0   N/A  N/A     27780    C+G   ...2txyewy\\TextInputHost.exe    N/A      |\n",
      "|    0   N/A  N/A     28836    C+G   ...Monitor\\DeviceMonitor.exe    N/A      |\n",
      "|    0   N/A  N/A     32036    C+G   ...ystem32\\UevAppMonitor.exe    N/A      |\n",
      "|    0   N/A  N/A     32320    C+G   ...icrosoft VS Code\\Code.exe    N/A      |\n",
      "|    0   N/A  N/A     34296    C+G   ...Box\\Box Edit\\Box Edit.exe    N/A      |\n",
      "|    0   N/A  N/A     35420    C+G   ...oft OneDrive\\OneDrive.exe    N/A      |\n",
      "|    0   N/A  N/A     35700    C+G   ...bbwe\\Microsoft.Photos.exe    N/A      |\n",
      "|    0   N/A  N/A     39424    C+G   ...me\\Application\\chrome.exe    N/A      |\n",
      "|    0   N/A  N/A     39808    C+G   ...cw5n1h2txyewy\\LockApp.exe    N/A      |\n",
      "|    0   N/A  N/A     44132    C+G   ...ge\\Application\\msedge.exe    N/A      |\n",
      "+-----------------------------------------------------------------------------+\n"
     ]
    }
   ],
   "source": [
    "!nvidia-smi"
   ]
  },
  {
   "cell_type": "code",
   "execution_count": null,
   "metadata": {},
   "outputs": [],
   "source": [
    "val_IoU = 0\n",
    "for image, upsample, cp_output in validation_loader:\n",
    "\n",
    "    (image, upsample, cp_output) = (image.to('cuda:0'),upsample.to('cuda:0'),cp_output.to('cuda:0')) # sending the data to the device (cpu or GPU)\n",
    "\n",
    "    image = image.unsqueeze(1)\n",
    "    y_16_pred, y_32_pred, map_pred = unet(image)\n",
    "    y_32_pred = y_32_pred.squeeze(1)\n",
    "    map_pred = map_pred.squeeze(1)\n",
    "\n",
    "    device = 'cuda:0'\n",
    "    #IoU score\n",
    "    jaccard = BinaryJaccardIndex(threshold=0.5).to(device)\n",
    "    map_pred = F.sigmoid(map_pred)\n",
    "    cp_output = F.sigmoid(cp_output)\n",
    "    cp_output = torch.where(cp_output > 0.5, 1.0, 0.0)\n",
    "    iou = jaccard(map_pred, cp_output)\n",
    "    if not torch.isnan(iou):\n",
    "        val_IoU += iou\n",
    "    else:\n",
    "        val_IoU += 0"
   ]
  },
  {
   "cell_type": "code",
   "execution_count": null,
   "metadata": {},
   "outputs": [
    {
     "name": "stdout",
     "output_type": "stream",
     "text": [
      "[0. 1.]\n"
     ]
    },
    {
     "data": {
      "image/png": "[encoded data removed]",
      "text/plain": [
       "<Figure size 640x480 with 1 Axes>"
      ]
     },
     "metadata": {},
     "output_type": "display_data"
    }
   ],
   "source": [
    "cp_output = cp_output.squeeze(0)\n",
    "cp_output = cp_output.cpu().detach().numpy()\n",
    "plt.imshow(cp_output)\n",
    "print(np.unique(cp_output))"
   ]
  },
  {
   "cell_type": "code",
   "execution_count": null,
   "metadata": {},
   "outputs": [
    {
     "name": "stdout",
     "output_type": "stream",
     "text": [
      "tensor(59.5064, device='cuda:0')\n"
     ]
    }
   ],
   "source": [
    "print(val_IoU)"
   ]
  }
 ],
 "metadata": {
  "kernelspec": {
   "display_name": "Python 3",
   "language": "python",
   "name": "python3"
  },
  "language_info": {
   "codemirror_mode": {
    "name": "ipython",
    "version": 3
   },
   "file_extension": ".py",
   "mimetype": "text/x-python",
   "name": "python",
   "nbconvert_exporter": "python",
   "pygments_lexer": "ipython3",
   "version": "3.8.16"
  },
  "orig_nbformat": 4
 },
 "nbformat": 4,
 "nbformat_minor": 2
}
