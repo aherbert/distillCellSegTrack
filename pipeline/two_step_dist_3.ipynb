{
 "cells": [
  {
   "cell_type": "code",
   "execution_count": 1,
   "metadata": {},
   "outputs": [
    {
     "name": "stderr",
     "output_type": "stream",
     "text": [
      "c:\\Users\\rz200\\Anaconda3\\envs\\omero-env\\lib\\site-packages\\tqdm\\auto.py:22: TqdmWarning: IProgress not found. Please update jupyter and ipywidgets. See https://ipywidgets.readthedocs.io/en/stable/user_install.html\n",
      "  from .autonotebook import tqdm as notebook_tqdm\n"
     ]
    }
   ],
   "source": [
    "from import_images import getImages\n",
    "import numpy as np\n",
    "import torch\n",
    "from cellpose import resnet_torch\n",
    "from cellpose import transforms\n",
    "import cv2\n",
    "import time\n",
    "from unet_architecture import UNet\n",
    "import torch\n",
    "from torch.utils.data import Dataset, DataLoader\n",
    "import torch.nn.functional as F\n",
    "import torchvision.transforms as T\n",
    "from torchmetrics.classification import BinaryJaccardIndex\n",
    "import torchvision\n",
    "import numpy as np\n",
    "from sklearn.model_selection import train_test_split\n",
    "import matplotlib.pyplot as plt"
   ]
  },
  {
   "cell_type": "code",
   "execution_count": 2,
   "metadata": {},
   "outputs": [
    {
     "name": "stdout",
     "output_type": "stream",
     "text": [
      "True\n"
     ]
    }
   ],
   "source": [
    "print(torch.cuda.is_available())"
   ]
  },
  {
   "cell_type": "code",
   "execution_count": 87,
   "metadata": {},
   "outputs": [],
   "source": [
    "def get_pre_activations(image,cpnet):\n",
    "\n",
    "    print(cpnet.diam_mean, cpnet.diam_labels, cpnet.diam_mean/cpnet.diam_labels)\n",
    "    image = cv2.resize(np.array(image), dsize=(512, 512), interpolation=cv2.INTER_NEAREST)\n",
    "    print(image.shape)\n",
    "    x = transforms.resize_image(image, rsz=cpnet.diam_mean/cpnet.diam_labels,no_channels=True).astype(np.float32)\n",
    "    x = np.expand_dims(x, axis=0)\n",
    "    x = np.concatenate((x, x), axis=0)\n",
    "    x = torch.from_numpy(x).unsqueeze(0)\n",
    "\n",
    "    downsample = cpnet.downsample(x)\n",
    "    style = cpnet.make_style(downsample[-1])\n",
    "    \n",
    "    resized_downsample = []\n",
    "    for tensor in downsample[0]:\n",
    "        resized_tensor = F.interpolate(tensor.unsqueeze(0), size=(656, 656), mode='bilinear', align_corners=False)\n",
    "        resized_tensor = resized_tensor.squeeze(0)\n",
    "        resized_downsample.append(resized_tensor)\n",
    "    downsample[0] = torch.stack(resized_downsample)\n",
    "\n",
    "    print(downsample[0].shape, downsample[1].shape, downsample[2].shape, downsample[3].shape)\n",
    "    upsample = cpnet.upsample(style, downsample, cpnet.mkldnn)\n",
    "\n",
    "    output = cpnet.output(upsample).squeeze(0)[2]\n",
    "    output = output.cpu().detach().numpy()\n",
    "    output = cv2.resize(output, dsize=(1024, 1024), interpolation=cv2.INTER_NEAREST)\n",
    "    output = np.array(output)\n",
    "\n",
    "    upsample = upsample.squeeze(0)\n",
    "    upsample = upsample.cpu().detach().numpy().tolist()\n",
    "    for (k, image) in enumerate(upsample):\n",
    "        upsample[k] = cv2.resize(np.array(image), dsize=(1024, 1024), interpolation=cv2.INTER_NEAREST)\n",
    "    upsample = np.array(upsample)\n",
    "\n",
    "    return upsample, output"
   ]
  },
  {
   "cell_type": "code",
   "execution_count": 4,
   "metadata": {},
   "outputs": [],
   "source": [
    "class ImageDataset(Dataset):\n",
    "    def __init__(self, image, upsample, cellprob):\n",
    "        self.image = image\n",
    "        self.upsample = upsample\n",
    "        self.cellprob = cellprob\n",
    "\n",
    "    def __len__(self):\n",
    "        return len(self.image)\n",
    "\n",
    "    def __getitem__(self, idx):\n",
    "        img = self.image[idx]\n",
    "        upsample = self.upsample[idx]\n",
    "        cellprob = self.cellprob[idx]\n",
    "        return img, upsample, cellprob\n",
    "    \n",
    "def get_crops(image,size):\n",
    "    assert image.shape[0]%size == 0\n",
    "    assert image.shape[0] == image.shape[1]\n",
    "    crops = []\n",
    "    for i in range(0,image.shape[0],size):\n",
    "        for j in range(0,image.shape[1],size):\n",
    "            crops.append(image[i:i+size,j:j+size])\n",
    "    return crops\n",
    "\n",
    "def reconstruct_image(crops, size):\n",
    "    assert len(crops) > 0\n",
    "    image_size = 1024\n",
    "    size = 256\n",
    "    image = np.zeros((image_size, image_size), dtype=np.uint8)\n",
    "    crop_idx = 0\n",
    "    for i in range(0, image_size, size):\n",
    "        for j in range(0, image_size, size):\n",
    "            image[i:i+size, j:j+size] = crops[crop_idx]\n",
    "            crop_idx += 1\n",
    "    return image\n",
    "\n",
    "def get_data(images, cpnet, crop_size=216):\n",
    "    cp_upsamples = []\n",
    "    cp_outputs = []\n",
    "    for image in images:\n",
    "        upsample, output = get_pre_activations(image,cpnet)\n",
    "        cp_upsamples.append(upsample)\n",
    "        cp_outputs.append(output)\n",
    "\n",
    "    images_torch = torch.from_numpy(np.array(images, dtype=np.float32))\n",
    "    train_images, test_images, train_upsamples, test_upsamples, train_cellprob, test_cellprob = train_test_split(images_torch, cp_upsamples, cp_outputs, test_size=0.1, random_state=42)\n",
    "    \n",
    "    #print(train_images[0].shape, train_upsamples[0].shape, train_cellprob[0].shape)\n",
    "\n",
    "    images_normalised = []\n",
    "    for image in train_images:\n",
    "        min_val = torch.min(image)\n",
    "        max_val = torch.max(image)\n",
    "        normalized_image = (image - min_val) / (max_val - min_val)\n",
    "        images_normalised.append(normalized_image)\n",
    "\n",
    "    images_torch_rotated = []\n",
    "    for image in images_normalised:\n",
    "        images_torch_rotated.append(image)\n",
    "        for i in range(3):\n",
    "            image = torch.rot90(image, 1, [0, 1])\n",
    "            images_torch_rotated.append(image)\n",
    "\n",
    "    images_torch_rotated_flipped = []\n",
    "    for image in images_torch_rotated:\n",
    "        images_torch_rotated_flipped.append(image)\n",
    "        images_torch_rotated_flipped.append(torch.flip(image, [1]))\n",
    "\n",
    "    cp_upsamples_normalised = []\n",
    "    for upsample in train_upsamples:\n",
    "        min_val = np.min(upsample)\n",
    "        max_val = np.max(upsample)\n",
    "        normalized_upsample = (upsample - min_val) / (max_val - min_val)\n",
    "        cp_upsamples_normalised.append(normalized_upsample)\n",
    "\n",
    "    cp_upsamples_rotated = []\n",
    "    for upsample in cp_upsamples_normalised:\n",
    "        cp_upsamples_rotated.append(upsample)\n",
    "        for i in range(3):\n",
    "            upsample = np.rot90(upsample, 1, [1, 2])\n",
    "            cp_upsamples_rotated.append(upsample)\n",
    "\n",
    "    cp_upsamples_rotated_flipped = []\n",
    "    for upsample in cp_upsamples_rotated:\n",
    "        cp_upsamples_rotated_flipped.append(upsample)\n",
    "        cp_upsamples_rotated_flipped.append(np.flip(upsample, [2]))\n",
    "\n",
    "    cp_outputs_rotated = []\n",
    "    for output in train_cellprob:\n",
    "        cp_outputs_rotated.append(output)\n",
    "        for i in range(3):\n",
    "            output = np.rot90(output, 1, [0, 1])\n",
    "            cp_outputs_rotated.append(output)\n",
    "\n",
    "    cp_outputs_rotated_flipped = []\n",
    "    for output in cp_outputs_rotated:\n",
    "        cp_outputs_rotated_flipped.append(output)\n",
    "        cp_outputs_rotated_flipped.append(np.flip(output, [1]))\n",
    "\n",
    "    images_cropped = []\n",
    "    for image in images_torch_rotated_flipped:\n",
    "        #print(image.shape)\n",
    "        crops = get_crops(image,crop_size)\n",
    "        for crop in crops:\n",
    "            images_cropped.append(crop)\n",
    "\n",
    "    cp_upsampled_cropped = []\n",
    "    for (i,upsample) in enumerate(cp_upsamples_rotated_flipped):\n",
    "        crops_per_chan = []\n",
    "        for chan in upsample:\n",
    "            chan = cv2.resize(chan, dsize=(1080, 1080), interpolation=cv2.INTER_CUBIC)\n",
    "            crops = get_crops(chan,crop_size)\n",
    "            crops_per_chan.append(crops)\n",
    "\n",
    "        for j in range(25):\n",
    "            crop_channels_of_crop = []\n",
    "            for k in range(32):\n",
    "                crop_channels_of_crop.append(crops_per_chan[k][j])\n",
    "            crop_channels_of_crop = np.array(crop_channels_of_crop)\n",
    "            crop_channels_of_crop = crop_channels_of_crop.copy()\n",
    "            crop_channels_of_crop = torch.from_numpy(crop_channels_of_crop)\n",
    "            cp_upsampled_cropped.append(crop_channels_of_crop)\n",
    "\n",
    "    cp_outputs_cropped = []\n",
    "    for output in cp_outputs_rotated_flipped:\n",
    "        output = cv2.resize(output, dsize=(1080, 1080), interpolation=cv2.INTER_CUBIC)\n",
    "        crops = get_crops(output,crop_size)\n",
    "        for crop in crops:\n",
    "            crop = torch.from_numpy(crop.copy())\n",
    "            cp_outputs_cropped.append(crop)\n",
    "\n",
    "    return images_cropped, cp_upsampled_cropped, cp_outputs_cropped, test_images, test_upsamples, test_cellprob"
   ]
  },
  {
   "cell_type": "code",
   "execution_count": 5,
   "metadata": {},
   "outputs": [],
   "source": [
    "class KD_loss(torch.nn.Module):\n",
    "    def __init__(self, alpha, beta):\n",
    "        super(KD_loss, self).__init__()\n",
    "        self.alpha = alpha\n",
    "        self.beta = beta\n",
    "\n",
    "    def forward(self, y_32_pred, y_32_true, y_3_pred, y_3_true):\n",
    "        \n",
    "        #32-channel loss\n",
    "        y_32_pred = F.sigmoid(y_32_pred)\n",
    "        y_32_true = F.sigmoid(y_32_true)\n",
    "        y_32_loss = F.mse_loss(y_32_pred, y_32_true.float())\n",
    "\n",
    "        #3-channel loss\n",
    "        y_3_bce_loss = F.mse_loss(y_3_pred, y_3_true.float())\n",
    "\n",
    "        return y_32_loss * self.alpha, y_3_bce_loss * self.beta"
   ]
  },
  {
   "cell_type": "code",
   "execution_count": 6,
   "metadata": {},
   "outputs": [],
   "source": [
    "def trainEpoch(unet, train_loader, test_loader, validation_loader, loss_fn, optimiser, scheduler, epoch_num, device):\n",
    "    time_start = time.time()\n",
    "    \n",
    "    unet.train()\n",
    "\n",
    "    train_y_32_loss, train_map_loss = 0, 0\n",
    "\n",
    "    for image, upsample, cp_output in train_loader:\n",
    "\n",
    "        if device == 'mps':\n",
    "            image, upsample, cp_output = image.float(), upsample.float(), cp_output.float() #cast to float32 (important for mps)\n",
    "\n",
    "        if device is not None:\n",
    "            (image, upsample, cp_output) = (image.to(device),upsample.to(device),cp_output.to(device)) # sending the data to the device (cpu or GPU)\n",
    "\n",
    "        image = image.unsqueeze(1)\n",
    "        y_16_pred, y_32_pred, map_pred = unet(image)\n",
    "        y_32_pred = y_32_pred.squeeze(1)\n",
    "        map_pred = map_pred.squeeze(1)\n",
    "    \n",
    "        loss_32, loss_map = loss_fn(y_32_pred,  upsample, map_pred, cp_output) # calculate the loss of that prediction\n",
    "        train_y_32_loss += loss_32.item()\n",
    "        train_map_loss += loss_map.item()\n",
    "\n",
    "         # zero out the accumulated gradients\n",
    "\n",
    "        #I want to get two losses, one for the 32-channel output and one for the 3-channel output\n",
    "        #I then want to freeze certain channels before putting the losses backwards\n",
    "        unet.encoder.requires_grad = True #repetitive but just to be clear\n",
    "        unet.decoder.requires_grad = True\n",
    "        unet.head.requires_grad = False\n",
    "        loss_32.backward(retain_graph=True)\n",
    "\n",
    "        \n",
    "        unet.encoder.requires_grad = False\n",
    "        unet.decoder.requires_grad = False\n",
    "        unet.head.requires_grad = True\n",
    "        loss_map.backward(retain_graph=True)\n",
    "\n",
    "        optimiser.step() # update model parameters\n",
    "        optimiser.zero_grad()\n",
    "\n",
    "    if scheduler is not None:\n",
    "        scheduler.step()\n",
    "\n",
    "    train_y_32_loss, train_map_loss = train_y_32_loss/len(train_loader), train_map_loss/len(train_loader)\n",
    "\n",
    "\n",
    "    val_y_32_loss, val_map_loss, val_IoU = 0, 0, 0\n",
    "    for image, upsample, cp_output in validation_loader:\n",
    "        if device == 'mps':\n",
    "            image, upsample, cp_output = image.float(), upsample.float(), cp_output.float() #cast to float32 (important for mps)\n",
    "\n",
    "        if device is not None:\n",
    "            (image, upsample, cp_output) = (image.to(device),upsample.to(device),cp_output.to(device)) # sending the data to the device (cpu or GPU)\n",
    "\n",
    "        image = image.unsqueeze(1)\n",
    "        y_16_pred, y_32_pred, map_pred = unet(image)\n",
    "        y_32_pred = y_32_pred.squeeze(1)\n",
    "        map_pred = map_pred.squeeze(1)\n",
    "    \n",
    "        loss_32, loss_map = loss_fn(y_32_pred,  upsample, map_pred, cp_output) # calculate the loss of that prediction\n",
    "        val_y_32_loss += loss_32.item()\n",
    "        val_map_loss += loss_map.item()\n",
    "\n",
    "        #IoU score\n",
    "        jaccard = BinaryJaccardIndex(threshold=0.5).to(device)\n",
    "        map_pred = F.sigmoid(map_pred)\n",
    "        cp_output = F.sigmoid(cp_output)\n",
    "        cp_output = torch.where(cp_output > 0.5, 1.0, 0.0)\n",
    "        iou = jaccard(map_pred, cp_output)\n",
    "        if not torch.isnan(iou):\n",
    "            val_IoU += iou\n",
    "        else:\n",
    "            val_IoU += 0\n",
    "        \n",
    "\n",
    "    val_y_32_loss, val_map_loss, val_IoU = val_y_32_loss/len(validation_loader), val_map_loss/len(validation_loader), val_IoU.item()/len(validation_loader)\n",
    "    \n",
    "    #we might add displaying later on\n",
    "    \n",
    "    if epoch_num is None:\n",
    "        print('Train 32 loss: ', train_y_32_loss,'Train map loss', train_map_loss, 'Val 32 loss: ', val_y_32_loss, 'Val map loss: ', val_map_loss, 'Val IoU: ', val_IoU, 'Time: ', time.time()-time_start)\n",
    "    else:\n",
    "        print('Epoch: ', epoch_num, 'Train 32 loss: ', train_y_32_loss,'Train map loss', train_map_loss, 'Val 32 loss: ', val_y_32_loss, 'Val map loss: ', val_map_loss, 'Val IoU: ', val_IoU, 'Time: ', time.time()-time_start)\n",
    "\n",
    "    return unet"
   ]
  },
  {
   "cell_type": "code",
   "execution_count": 7,
   "metadata": {},
   "outputs": [
    {
     "name": "stdout",
     "output_type": "stream",
     "text": [
      "Connection successful\n",
      "In plate 1237 we have 36 images\n",
      "Computing: [########################################] 36/36\n",
      "\n"
     ]
    }
   ],
   "source": [
    "import ezomero\n",
    "from omero_data import connect, extract_channel, progressbar\n",
    "\n",
    "conn = connect(user='rz200',password='omeroreset')\n",
    "\n",
    "plate = 1237\n",
    "image_ids = ezomero.get_image_ids(conn,plate=plate)\n",
    "\n",
    "print('In plate',plate,'we have',len(image_ids),'images')\n",
    "\n",
    "data_images = []\n",
    "for i in progressbar(range(len(image_ids)), \"Computing: \", 40):\n",
    "    data_images.append(ezomero.get_image(conn, image_ids[i])[1])\n",
    "\n",
    "data_images_one = extract_channel(data_images, 0)\n",
    "data_images_two = extract_channel(data_images, 1)\n"
   ]
  },
  {
   "cell_type": "code",
   "execution_count": 79,
   "metadata": {},
   "outputs": [],
   "source": [
    "#images_directory = \"C:\\\\Users\\\\rz200\\\\Documents\\\\development\\\\distillCellSegTrack\\\\pipeline\\\\uploads\\\\\"\n",
    "#images_directory = \"/Users/rehanzuberi/Documents/Development/distillCellSegTrack/pipeline/uploads\"\n",
    "#file_names, images = getImages(images_directory)\n",
    "images_torch = torch.from_numpy(np.array(data_images_one, dtype=np.float32)).unsqueeze(0)\n",
    "\n",
    "#directory = \"C:\\\\Users\\\\rz200\\\\Documents\\\\development\\\\distillCellSegTrack\\\\datasets\\\\Fluo-C2DL-Huh7\\\\01\\\\models\\\\CP_20230601_101328\"\n",
    "#directory = \"/Users/rehanzuberi/Documents/Development/distillCellSegTrack/datasets/Fluo-C2DL-Huh7/01/models/CP_20230601_101328\"\n",
    "directory = \"/Users/rz200/Documents/development/distillCellSegTrack/pipeline/CellPose_models/Nuclei_Hoechst\"\n",
    "cpnet = resnet_torch.CPnet(nbase=[2,32,64,128,256],nout=3,sz=3)\n",
    "cpnet.load_model(directory)"
   ]
  },
  {
   "cell_type": "code",
   "execution_count": 80,
   "metadata": {},
   "outputs": [
    {
     "name": "stdout",
     "output_type": "stream",
     "text": [
      "Parameter containing:\n",
      "tensor([13.2426])\n"
     ]
    }
   ],
   "source": [
    "print(cpnet.diam_labels)"
   ]
  },
  {
   "cell_type": "code",
   "execution_count": 116,
   "metadata": {},
   "outputs": [
    {
     "name": "stdout",
     "output_type": "stream",
     "text": [
      "Parameter containing:\n",
      "tensor([17.]) Parameter containing:\n",
      "tensor([13.2426]) tensor([1.2837])\n",
      "(512, 512)\n",
      "torch.Size([1, 32, 656, 656]) torch.Size([1, 64, 328, 328]) torch.Size([1, 128, 164, 164]) torch.Size([1, 256, 82, 82])\n",
      "Parameter containing:\n",
      "tensor([17.]) Parameter containing:\n",
      "tensor([13.2426]) tensor([1.2837])\n",
      "(512, 512)\n",
      "torch.Size([1, 32, 656, 656]) torch.Size([1, 64, 328, 328]) torch.Size([1, 128, 164, 164]) torch.Size([1, 256, 82, 82])\n",
      "Parameter containing:\n",
      "tensor([17.]) Parameter containing:\n",
      "tensor([13.2426]) tensor([1.2837])\n",
      "(512, 512)\n",
      "torch.Size([1, 32, 656, 656]) torch.Size([1, 64, 328, 328]) torch.Size([1, 128, 164, 164]) torch.Size([1, 256, 82, 82])\n",
      "Parameter containing:\n",
      "tensor([17.]) Parameter containing:\n",
      "tensor([13.2426]) tensor([1.2837])\n",
      "(512, 512)\n",
      "torch.Size([1, 32, 656, 656]) torch.Size([1, 64, 328, 328]) torch.Size([1, 128, 164, 164]) torch.Size([1, 256, 82, 82])\n",
      "Parameter containing:\n",
      "tensor([17.]) Parameter containing:\n",
      "tensor([13.2426]) tensor([1.2837])\n",
      "(512, 512)\n",
      "torch.Size([1, 32, 656, 656]) torch.Size([1, 64, 328, 328]) torch.Size([1, 128, 164, 164]) torch.Size([1, 256, 82, 82])\n",
      "Parameter containing:\n",
      "tensor([17.]) Parameter containing:\n",
      "tensor([13.2426]) tensor([1.2837])\n",
      "(512, 512)\n",
      "torch.Size([1, 32, 656, 656]) torch.Size([1, 64, 328, 328]) torch.Size([1, 128, 164, 164]) torch.Size([1, 256, 82, 82])\n",
      "Parameter containing:\n",
      "tensor([17.]) Parameter containing:\n",
      "tensor([13.2426]) tensor([1.2837])\n",
      "(512, 512)\n",
      "torch.Size([1, 32, 656, 656]) torch.Size([1, 64, 328, 328]) torch.Size([1, 128, 164, 164]) torch.Size([1, 256, 82, 82])\n"
     ]
    }
   ],
   "source": [
    "images_cropped, cp_upsampled_cropped, cp_outputs_cropped, test_images, test_upsamples, test_cellprob = get_data(data_images_one[:7], cpnet)"
   ]
  },
  {
   "cell_type": "code",
   "execution_count": 90,
   "metadata": {},
   "outputs": [
    {
     "data": {
      "image/png": "[encoded data removed]",
      "text/plain": [
       "<Figure size 640x480 with 2 Axes>"
      ]
     },
     "metadata": {},
     "output_type": "display_data"
    }
   ],
   "source": [
    "plt.subplot(1,2,1)\n",
    "plt.imshow(images_cropped[8])\n",
    "plt.subplot(1,2,2)\n",
    "plt.imshow(cp_outputs_cropped[8]>0.5)\n",
    "plt.show()"
   ]
  },
  {
   "cell_type": "code",
   "execution_count": 117,
   "metadata": {},
   "outputs": [],
   "source": [
    "train_images, val_images, train_upsamples, val_upsamples, train_cellprob, val_cellprob = train_test_split(images_cropped, cp_upsampled_cropped, cp_outputs_cropped, test_size=0.1, random_state=42)\n",
    "\n",
    "num_train_images = 10\n",
    "train_dataset = ImageDataset(images_cropped, cp_upsampled_cropped, cp_outputs_cropped)\n",
    "train_loader = DataLoader(train_dataset, batch_size=8, shuffle=True)\n",
    "\n",
    "validation_dataset = ImageDataset(val_images, val_upsamples, val_cellprob)\n",
    "validation_loader = DataLoader(validation_dataset, batch_size=8, shuffle=True)\n",
    "\n",
    "test_dataset = ImageDataset(test_images, test_upsamples, test_cellprob)\n",
    "test_loader = DataLoader(test_dataset, batch_size=1, shuffle=True)"
   ]
  },
  {
   "cell_type": "code",
   "execution_count": 118,
   "metadata": {},
   "outputs": [],
   "source": [
    "unet = UNet(encChannels=(1,32,64,128,256),decChannels=(256,128,64,32),nbClasses=1)\n",
    "unet = unet.to('cuda:0')"
   ]
  },
  {
   "cell_type": "code",
   "execution_count": 206,
   "metadata": {},
   "outputs": [
    {
     "name": "stderr",
     "output_type": "stream",
     "text": [
      "c:\\Users\\rz200\\Anaconda3\\envs\\omero-env\\lib\\site-packages\\torch\\nn\\functional.py:1944: UserWarning: nn.functional.sigmoid is deprecated. Use torch.sigmoid instead.\n",
      "  warnings.warn(\"nn.functional.sigmoid is deprecated. Use torch.sigmoid instead.\")\n"
     ]
    },
    {
     "name": "stdout",
     "output_type": "stream",
     "text": [
      "Epoch:  0 Train 32 loss:  0.030939852421482405 Train map loss 3.444537156422933 Val 32 loss:  0.03085824983815352 Val map loss:  3.4447734038035076 Val IoU:  0.617230224609375 Time:  126.0157778263092\n",
      "Epoch:  1 Train 32 loss:  0.030914279508093993 Train map loss 3.4206256373723347 Val 32 loss:  0.030758845061063765 Val map loss:  3.412805684407552 Val IoU:  0.6167612075805664 Time:  129.72092509269714\n",
      "Epoch:  2 Train 32 loss:  0.03082443746427695 Train map loss 3.4142021632194517 Val 32 loss:  0.030680974945425987 Val map loss:  3.423884455362956 Val IoU:  0.618136215209961 Time:  130.8755979537964\n",
      "Epoch:  3 Train 32 loss:  0.03073733116189639 Train map loss 3.4151691579818726 Val 32 loss:  0.03061553823451201 Val map loss:  3.428737004597982 Val IoU:  0.6161982218424479 Time:  130.71890306472778\n"
     ]
    },
    {
     "ename": "KeyboardInterrupt",
     "evalue": "",
     "output_type": "error",
     "traceback": [
      "\u001b[1;31m---------------------------------------------------------------------------\u001b[0m",
      "\u001b[1;31mKeyboardInterrupt\u001b[0m                         Traceback (most recent call last)",
      "\u001b[1;32mc:\\Users\\rz200\\Documents\\development\\distillCellSegTrack\\pipeline\\two_step_dist_3.ipynb Cell 14\u001b[0m in \u001b[0;36m9\n\u001b[0;32m      <a href='vscode-notebook-cell:/c%3A/Users/rz200/Documents/development/distillCellSegTrack/pipeline/two_step_dist_3.ipynb#X16sZmlsZQ%3D%3D?line=4'>5</a>\u001b[0m scheduler \u001b[39m=\u001b[39m torch\u001b[39m.\u001b[39moptim\u001b[39m.\u001b[39mlr_scheduler\u001b[39m.\u001b[39mCyclicLR(optimiser, base_lr\u001b[39m=\u001b[39m\u001b[39m0.000001\u001b[39m, max_lr\u001b[39m=\u001b[39m\u001b[39m0.1\u001b[39m)\n\u001b[0;32m      <a href='vscode-notebook-cell:/c%3A/Users/rz200/Documents/development/distillCellSegTrack/pipeline/two_step_dist_3.ipynb#X16sZmlsZQ%3D%3D?line=6'>7</a>\u001b[0m \u001b[39mfor\u001b[39;00m epoch \u001b[39min\u001b[39;00m \u001b[39mrange\u001b[39m(\u001b[39m500\u001b[39m):\n\u001b[0;32m      <a href='vscode-notebook-cell:/c%3A/Users/rz200/Documents/development/distillCellSegTrack/pipeline/two_step_dist_3.ipynb#X16sZmlsZQ%3D%3D?line=7'>8</a>\u001b[0m     \u001b[39m#print(scheduler.get_last_lr())\u001b[39;00m\n\u001b[1;32m----> <a href='vscode-notebook-cell:/c%3A/Users/rz200/Documents/development/distillCellSegTrack/pipeline/two_step_dist_3.ipynb#X16sZmlsZQ%3D%3D?line=8'>9</a>\u001b[0m     unet \u001b[39m=\u001b[39m trainEpoch(unet, train_loader, test_loader, validation_loader, loss_fn, optimiser, scheduler\u001b[39m=\u001b[39;49mscheduler, epoch_num\u001b[39m=\u001b[39;49mepoch, device\u001b[39m=\u001b[39;49m\u001b[39m'\u001b[39;49m\u001b[39mcuda:0\u001b[39;49m\u001b[39m'\u001b[39;49m)\n",
      "\u001b[1;32mc:\\Users\\rz200\\Documents\\development\\distillCellSegTrack\\pipeline\\two_step_dist_3.ipynb Cell 14\u001b[0m in \u001b[0;36m1\n\u001b[0;32m     <a href='vscode-notebook-cell:/c%3A/Users/rz200/Documents/development/distillCellSegTrack/pipeline/two_step_dist_3.ipynb#X16sZmlsZQ%3D%3D?line=10'>11</a>\u001b[0m     image, upsample, cp_output \u001b[39m=\u001b[39m image\u001b[39m.\u001b[39mfloat(), upsample\u001b[39m.\u001b[39mfloat(), cp_output\u001b[39m.\u001b[39mfloat() \u001b[39m#cast to float32 (important for mps)\u001b[39;00m\n\u001b[0;32m     <a href='vscode-notebook-cell:/c%3A/Users/rz200/Documents/development/distillCellSegTrack/pipeline/two_step_dist_3.ipynb#X16sZmlsZQ%3D%3D?line=12'>13</a>\u001b[0m \u001b[39mif\u001b[39;00m device \u001b[39mis\u001b[39;00m \u001b[39mnot\u001b[39;00m \u001b[39mNone\u001b[39;00m:\n\u001b[1;32m---> <a href='vscode-notebook-cell:/c%3A/Users/rz200/Documents/development/distillCellSegTrack/pipeline/two_step_dist_3.ipynb#X16sZmlsZQ%3D%3D?line=13'>14</a>\u001b[0m     (image, upsample, cp_output) \u001b[39m=\u001b[39m (image\u001b[39m.\u001b[39;49mto(device),upsample\u001b[39m.\u001b[39mto(device),cp_output\u001b[39m.\u001b[39mto(device)) \u001b[39m# sending the data to the device (cpu or GPU)\u001b[39;00m\n\u001b[0;32m     <a href='vscode-notebook-cell:/c%3A/Users/rz200/Documents/development/distillCellSegTrack/pipeline/two_step_dist_3.ipynb#X16sZmlsZQ%3D%3D?line=15'>16</a>\u001b[0m image \u001b[39m=\u001b[39m image\u001b[39m.\u001b[39munsqueeze(\u001b[39m1\u001b[39m)\n\u001b[0;32m     <a href='vscode-notebook-cell:/c%3A/Users/rz200/Documents/development/distillCellSegTrack/pipeline/two_step_dist_3.ipynb#X16sZmlsZQ%3D%3D?line=16'>17</a>\u001b[0m y_16_pred, y_32_pred, map_pred \u001b[39m=\u001b[39m unet(image)\n",
      "\u001b[1;31mKeyboardInterrupt\u001b[0m: "
     ]
    }
   ],
   "source": [
    "loss_fn = KD_loss(alpha=1, beta=1)\n",
    "optimiser = torch.optim.SGD(unet.parameters(), lr=0.1, momentum=0.1)\n",
    "\n",
    "#I think a decaying scheduler is best, not a cyclic one\n",
    "scheduler = torch.optim.lr_scheduler.CyclicLR(optimiser, base_lr=0.000001, max_lr=0.1)\n",
    "\n",
    "for epoch in range(500):\n",
    "    #print(scheduler.get_last_lr())\n",
    "    unet = trainEpoch(unet, train_loader, test_loader, validation_loader, loss_fn, optimiser, scheduler=scheduler, epoch_num=epoch, device='cuda:0')"
   ]
  },
  {
   "cell_type": "code",
   "execution_count": 114,
   "metadata": {},
   "outputs": [
    {
     "data": {
      "text/plain": [
       "1380"
      ]
     },
     "execution_count": 114,
     "metadata": {},
     "output_type": "execute_result"
    }
   ],
   "source": [
    "import gc\n",
    "torch.cuda.empty_cache()\n",
    "gc.collect()\n"
   ]
  },
  {
   "cell_type": "code",
   "execution_count": 157,
   "metadata": {},
   "outputs": [],
   "source": [
    "torch.save(unet.state_dict(), 'unet_nuclei_hoechst_test_1')"
   ]
  },
  {
   "cell_type": "code",
   "execution_count": null,
   "metadata": {},
   "outputs": [],
   "source": [
    "git commit -m \"figured out it was the U20S cellpose model used in the Omero screen script at least for the first segmentation but it gave me some not very good segmentations on the plate when trying it on two_step_dist_3 even though it is supposed to be optimised for that plate so will have to check when we run the cell analysis results otherw^X"
   ]
  },
  {
   "cell_type": "code",
   "execution_count": null,
   "metadata": {},
   "outputs": [],
   "source": [
    "#now need to add post-processing and prediction functions and show some tests data\n",
    "#then will need to add the random seed weight test"
   ]
  },
  {
   "cell_type": "code",
   "execution_count": null,
   "metadata": {},
   "outputs": [
    {
     "data": {
      "text/plain": [
       "0"
      ]
     },
     "execution_count": 15,
     "metadata": {},
     "output_type": "execute_result"
    }
   ],
   "source": [
    "import gc\n",
    "torch.cuda.empty_cache()\n",
    "gc.collect()"
   ]
  },
  {
   "cell_type": "code",
   "execution_count": null,
   "metadata": {},
   "outputs": [
    {
     "name": "stdout",
     "output_type": "stream",
     "text": [
      "Thu Jun 22 19:23:28 2023       \n",
      "+-----------------------------------------------------------------------------+\n",
      "| NVIDIA-SMI 472.39       Driver Version: 472.39       CUDA Version: 11.4     |\n",
      "|-------------------------------+----------------------+----------------------+\n",
      "| GPU  Name            TCC/WDDM | Bus-Id        Disp.A | Volatile Uncorr. ECC |\n",
      "| Fan  Temp  Perf  Pwr:Usage/Cap|         Memory-Usage | GPU-Util  Compute M. |\n",
      "|                               |                      |               MIG M. |\n",
      "|===============================+======================+======================|\n",
      "|   0  NVIDIA RTX A4000   WDDM  | 00000000:01:00.0  On |                  Off |\n",
      "| 44%   54C    P2    39W / 140W |   2599MiB / 16376MiB |      0%      Default |\n",
      "|                               |                      |                  N/A |\n",
      "+-------------------------------+----------------------+----------------------+\n",
      "                                                                               \n",
      "+-----------------------------------------------------------------------------+\n",
      "| Processes:                                                                  |\n",
      "|  GPU   GI   CI        PID   Type   Process name                  GPU Memory |\n",
      "|        ID   ID                                                   Usage      |\n",
      "|=============================================================================|\n",
      "|    0   N/A  N/A      1424    C+G   ...5n1h2txyewy\\SearchApp.exe    N/A      |\n",
      "|    0   N/A  N/A      1780    C+G   Insufficient Permissions        N/A      |\n",
      "|    0   N/A  N/A      6948    C+G   ...5n1h2txyewy\\SearchApp.exe    N/A      |\n",
      "|    0   N/A  N/A     20788    C+G   ...y\\ShellExperienceHost.exe    N/A      |\n",
      "|    0   N/A  N/A     21736    C+G   ...artMenuExperienceHost.exe    N/A      |\n",
      "|    0   N/A  N/A     21896      C   ...\\envs\\cellprob\\python.exe    N/A      |\n",
      "|    0   N/A  N/A     24648      C   ...\\envs\\cellprob\\python.exe    N/A      |\n",
      "|    0   N/A  N/A     26148    C+G   C:\\Windows\\explorer.exe         N/A      |\n",
      "|    0   N/A  N/A     26824    C+G   ...Anywhere\\AppsAnywhere.exe    N/A      |\n",
      "|    0   N/A  N/A     27780    C+G   ...2txyewy\\TextInputHost.exe    N/A      |\n",
      "|    0   N/A  N/A     28836    C+G   ...Monitor\\DeviceMonitor.exe    N/A      |\n",
      "|    0   N/A  N/A     32036    C+G   ...ystem32\\UevAppMonitor.exe    N/A      |\n",
      "|    0   N/A  N/A     32320    C+G   ...icrosoft VS Code\\Code.exe    N/A      |\n",
      "|    0   N/A  N/A     34296    C+G   ...Box\\Box Edit\\Box Edit.exe    N/A      |\n",
      "|    0   N/A  N/A     35420    C+G   ...oft OneDrive\\OneDrive.exe    N/A      |\n",
      "|    0   N/A  N/A     35700    C+G   ...bbwe\\Microsoft.Photos.exe    N/A      |\n",
      "|    0   N/A  N/A     39424    C+G   ...me\\Application\\chrome.exe    N/A      |\n",
      "|    0   N/A  N/A     39808    C+G   ...cw5n1h2txyewy\\LockApp.exe    N/A      |\n",
      "|    0   N/A  N/A     44132    C+G   ...ge\\Application\\msedge.exe    N/A      |\n",
      "+-----------------------------------------------------------------------------+\n"
     ]
    }
   ],
   "source": [
    "!nvidia-smi"
   ]
  },
  {
   "cell_type": "code",
   "execution_count": 166,
   "metadata": {},
   "outputs": [
    {
     "name": "stdout",
     "output_type": "stream",
     "text": [
      "x\n"
     ]
    },
    {
     "name": "stderr",
     "output_type": "stream",
     "text": [
      "c:\\Users\\rz200\\Anaconda3\\envs\\omero-env\\lib\\site-packages\\torch\\nn\\functional.py:1944: UserWarning: nn.functional.sigmoid is deprecated. Use torch.sigmoid instead.\n",
      "  warnings.warn(\"nn.functional.sigmoid is deprecated. Use torch.sigmoid instead.\")\n"
     ]
    }
   ],
   "source": [
    "val_IoU = 0\n",
    "for image, upsample, cp_output in validation_loader:\n",
    "    print('x')\n",
    "    (image, upsample, cp_output) = (image.to('cuda:0'),upsample.to('cuda:0'),cp_output.to('cuda:0')) # sending the data to the device (cpu or GPU)\n",
    "\n",
    "    image = image.unsqueeze(1)\n",
    "    y_16_pred, y_32_pred, map_pred = unet(image)\n",
    "    y_32_pred = y_32_pred.squeeze(1)\n",
    "    map_pred = map_pred.squeeze(1)\n",
    "\n",
    "    device = 'cuda:0'\n",
    "    #IoU score\n",
    "    jaccard = BinaryJaccardIndex(threshold=0.5).to(device)\n",
    "    map_pred = F.sigmoid(map_pred)\n",
    "    cp_output = F.sigmoid(cp_output)\n",
    "    cp_output = torch.where(cp_output > 0.5, 1.0, 0.0)\n",
    "    iou = jaccard(map_pred, cp_output)\n",
    "    if not torch.isnan(iou):\n",
    "        val_IoU += iou\n",
    "    else:\n",
    "        val_IoU += 0\n",
    "\n",
    "    break"
   ]
  },
  {
   "cell_type": "code",
   "execution_count": 167,
   "metadata": {},
   "outputs": [
    {
     "name": "stdout",
     "output_type": "stream",
     "text": [
      "torch.Size([8, 216, 216])\n"
     ]
    },
    {
     "data": {
      "image/png": "[encoded data removed]",
      "text/plain": [
       "<Figure size 640x480 with 3 Axes>"
      ]
     },
     "metadata": {},
     "output_type": "display_data"
    },
    {
     "name": "stdout",
     "output_type": "stream",
     "text": [
      "[False  True]\n"
     ]
    }
   ],
   "source": [
    "plt.subplot(1,3,1)\n",
    "plt.imshow(image.squeeze(0).cpu().detach().numpy()[0][0])\n",
    "\n",
    "print(cp_output.shape)\n",
    "cp_output = cp_output.squeeze(0)\n",
    "cp_output = cp_output.cpu().detach().numpy()\n",
    "plt.subplot(1,3,2)\n",
    "plt.imshow(cp_output[0])\n",
    "\n",
    "map_pred = map_pred.squeeze(0)\n",
    "map_pred = map_pred.cpu().detach().numpy()\n",
    "map_pred = map_pred[0] > 0.5\n",
    "plt.subplot(1,3,3)\n",
    "plt.imshow(map_pred)\n",
    "plt.show()\n",
    "\n",
    "print(np.unique(map_pred))"
   ]
  },
  {
   "cell_type": "code",
   "execution_count": 291,
   "metadata": {},
   "outputs": [
    {
     "name": "stdout",
     "output_type": "stream",
     "text": [
      "(216, 216) (216, 216)\n"
     ]
    },
    {
     "ename": "error",
     "evalue": "OpenCV(4.6.0) D:\\a\\opencv-python\\opencv-python\\opencv\\modules\\imgproc\\src\\segmentation.cpp:161: error: (-215:Assertion failed) src.type() == CV_8UC3 && dst.type() == CV_32SC1 in function 'cv::watershed'\n",
     "output_type": "error",
     "traceback": [
      "\u001b[1;31m---------------------------------------------------------------------------\u001b[0m",
      "\u001b[1;31merror\u001b[0m                                     Traceback (most recent call last)",
      "\u001b[1;32mc:\\Users\\rz200\\Documents\\development\\distillCellSegTrack\\pipeline\\two_step_dist_3.ipynb Cell 23\u001b[0m in \u001b[0;36m2\n\u001b[0;32m     <a href='vscode-notebook-cell:/c%3A/Users/rz200/Documents/development/distillCellSegTrack/pipeline/two_step_dist_3.ipynb#X36sZmlsZQ%3D%3D?line=26'>27</a>\u001b[0m \u001b[39m#markers = markers.astype(np.uint8)\u001b[39;00m\n\u001b[0;32m     <a href='vscode-notebook-cell:/c%3A/Users/rz200/Documents/development/distillCellSegTrack/pipeline/two_step_dist_3.ipynb#X36sZmlsZQ%3D%3D?line=27'>28</a>\u001b[0m \u001b[39mprint\u001b[39m(map_pred_0\u001b[39m.\u001b[39mshape, markers\u001b[39m.\u001b[39mshape)\n\u001b[1;32m---> <a href='vscode-notebook-cell:/c%3A/Users/rz200/Documents/development/distillCellSegTrack/pipeline/two_step_dist_3.ipynb#X36sZmlsZQ%3D%3D?line=28'>29</a>\u001b[0m markers \u001b[39m=\u001b[39m cv2\u001b[39m.\u001b[39;49mwatershed(map_pred_0, markers)\n\u001b[0;32m     <a href='vscode-notebook-cell:/c%3A/Users/rz200/Documents/development/distillCellSegTrack/pipeline/two_step_dist_3.ipynb#X36sZmlsZQ%3D%3D?line=29'>30</a>\u001b[0m map_pred_0[markers \u001b[39m==\u001b[39m \u001b[39m-\u001b[39m\u001b[39m1\u001b[39m] \u001b[39m=\u001b[39m [\u001b[39m0\u001b[39m,\u001b[39m255\u001b[39m,\u001b[39m255\u001b[39m]  \n\u001b[0;32m     <a href='vscode-notebook-cell:/c%3A/Users/rz200/Documents/development/distillCellSegTrack/pipeline/two_step_dist_3.ipynb#X36sZmlsZQ%3D%3D?line=31'>32</a>\u001b[0m img2 \u001b[39m=\u001b[39m color\u001b[39m.\u001b[39mlabel2rgb(markers, bg_label\u001b[39m=\u001b[39m\u001b[39m0\u001b[39m)\n",
      "\u001b[1;31merror\u001b[0m: OpenCV(4.6.0) D:\\a\\opencv-python\\opencv-python\\opencv\\modules\\imgproc\\src\\segmentation.cpp:161: error: (-215:Assertion failed) src.type() == CV_8UC3 && dst.type() == CV_32SC1 in function 'cv::watershed'\n"
     ]
    }
   ],
   "source": [
    "from skimage import measure\n",
    "from skimage import measure, color, io\n",
    "\n",
    "#map_pred_0 = map_pred.squeeze(0)\n",
    "#map_pred_0 = map_pred_0.cpu().detach().numpy()\n",
    "#map_pred_0 = map_pred_0[0] > 0.5\n",
    "\n",
    "#img = np.load('test.npy').astype(np.int32) # the method only works with 32bit image\n",
    "\n",
    "map_pred_0 = map_pred.astype(np.uint8)\n",
    "\n",
    "ret1, thresh = cv2.threshold(map_pred_0, 0, 255, cv2.THRESH_BINARY+cv2.THRESH_OTSU)\n",
    "\n",
    "kernel = np.ones((3,3),np.uint8)\n",
    "opening = cv2.morphologyEx(thresh,cv2.MORPH_OPEN,kernel, iterations = 2)\n",
    "\n",
    "sure_bg = cv2.dilate(opening,kernel,iterations=10)\n",
    "\n",
    "dist_transform = cv2.distanceTransform(opening,cv2.DIST_L2,5)\n",
    "\n",
    "ret2, sure_fg = cv2.threshold(dist_transform, 0.2*dist_transform.max(),255,0)\n",
    "sure_fg = np.uint8(sure_fg)\n",
    "unknown = cv2.subtract(sure_bg,sure_fg)\n",
    "ret3, markers = cv2.connectedComponents(sure_fg)\n",
    "markers = markers+1\n",
    "markers[unknown==255] = 0\n",
    "#markers = markers.astype(np.uint8)\n",
    "print(map_pred_0.shape, markers.shape)\n",
    "markers = cv2.watershed(map_pred_0, markers)\n",
    "map_pred_0[markers == -1] = [0,255,255]  \n",
    "\n",
    "img2 = color.label2rgb(markers, bg_label=0)\n",
    "\n",
    "print(np.unique(img2))\n",
    "plt.imshow(img2)\n",
    "plt.show()"
   ]
  },
  {
   "cell_type": "code",
   "execution_count": 341,
   "metadata": {},
   "outputs": [
    {
     "data": {
      "image/png": "[encoded data removed]",
      "text/plain": [
       "<Figure size 640x480 with 1 Axes>"
      ]
     },
     "metadata": {},
     "output_type": "display_data"
    },
    {
     "name": "stdout",
     "output_type": "stream",
     "text": [
      "[-1  1  2  3  4  5  6  7  8  9 10 11 12]\n"
     ]
    },
    {
     "data": {
      "image/png": "[encoded data removed]",
      "text/plain": [
       "<Figure size 640x480 with 1 Axes>"
      ]
     },
     "metadata": {},
     "output_type": "display_data"
    }
   ],
   "source": [
    "image = map_pred.astype(np.uint8)\n",
    "\n",
    "image = cv2.morphologyEx(image, cv2.MORPH_OPEN,\n",
    "        np.ones((3, 3), dtype=int))\n",
    "\n",
    "#gray = cv.cvtColor(image,cv.COLOR_BGR2GRAY)\n",
    "#ret, thresh = cv2.threshold(image,0,255,cv2.THRESH_BINARY_INV+cv2.THRESH_OTSU)\n",
    "\n",
    "#kernel = np.ones((3,3),np.uint8)\n",
    "#opening = cv2.morphologyEx(thresh,cv2.MORPH_OPEN,kernel, iterations = 1)\n",
    "\n",
    "#plt.subplot(1,2,1)\n",
    "#plt.imshow(image)\n",
    "#plt.imshow(opening);plt.show()\n",
    "\n",
    "# sure background area\n",
    "#sure_bg = cv2.dilate(opening,kernel,iterations=1)\n",
    "# Finding sure foreground area\n",
    "\n",
    "dist_transform = cv2.distanceTransform(image,cv2.DIST_L2,5)\n",
    "plt.imshow(dist_transform); plt.show()\n",
    "\n",
    "\n",
    "ret, sure_fg = cv2.threshold(dist_transform,0.5*dist_transform.max(),255,0)\n",
    "# Finding unknown region\n",
    "sure_fg = np.uint8(sure_fg)\n",
    "unknown = cv2.subtract(sure_bg,sure_fg)\n",
    "\n",
    "#plt.imshow(thresh)\n",
    "\n",
    "ret, markers = cv2.connectedComponents(sure_fg)\n",
    "# Add one to all labels so that sure background is not 0, but 1\n",
    "markers = markers+1\n",
    "# Now, mark the region of unknown with zero\n",
    "markers[unknown==255] = 0\n",
    "\n",
    "image = cv2.cvtColor(image,cv2.COLOR_GRAY2RGB)\n",
    "markers = cv2.watershed(image,markers)\n",
    "image[markers == -1] = [0,255,255]\n",
    "image = color.label2rgb(markers, bg_label=0)\n",
    "\n",
    "print(np.unique(markers))\n",
    "plt.imshow(markers);plt.show()"
   ]
  },
  {
   "cell_type": "code",
   "execution_count": 413,
   "metadata": {},
   "outputs": [
    {
     "data": {
      "image/png": "[encoded data removed]",
      "text/plain": [
       "<Figure size 640x480 with 1 Axes>"
      ]
     },
     "metadata": {},
     "output_type": "display_data"
    }
   ],
   "source": [
    "import sys\n",
    "import cv2\n",
    "from scipy.ndimage import label\n",
    "\n",
    "\n",
    "def segment_on_dt(a, img):\n",
    "    border = cv2.dilate(img, None, iterations=1)\n",
    "    border = border - cv2.erode(border, None)\n",
    "\n",
    "    dt = cv2.distanceTransform(img, 2, 3)\n",
    "    dt = ((dt - dt.min()) / (dt.max() - dt.min()) * 255).astype(np.uint8)\n",
    "    _, dt = cv2.threshold(dt, 130, 255, cv2.THRESH_BINARY)\n",
    "    lbl, ncc = label(dt)\n",
    "    lbl = lbl * (255 / (ncc + 1))\n",
    "    # Completing the markers now. \n",
    "    lbl[border == 255] = 255\n",
    "\n",
    "    lbl = lbl.astype(np.int32)\n",
    "    a = cv2.cvtColor(a,cv2.COLOR_GRAY2RGB)\n",
    "    cv2.watershed(a, lbl)\n",
    "\n",
    "    lbl[lbl == -1] = 0\n",
    "    lbl = lbl.astype(np.uint8)\n",
    "    return 255 - lbl\n",
    "\n",
    "image = map_pred.astype(np.uint8)\n",
    "image = cv2.morphologyEx(image, cv2.MORPH_OPEN,np.ones((1, 1), dtype=int))\n",
    "result = segment_on_dt(image, image)\n",
    "\n",
    "result[result == np.max(result)] = 0\n",
    "result[result == np.max(result)] = 0\n",
    "unique_values = np.unique(result)  # Find the unique values in the array\n",
    "sorted_values = np.sort(unique_values)  # Sort the unique values\n",
    "value_index_map = {value: index for index, value in enumerate(sorted_values)}\n",
    "ordered_array = np.vectorize(lambda x: value_index_map[x])(result)\n",
    "print(np.unique(ordered_array, return_counts=True))\n",
    "plt.imshow(ordered_array);plt.show()"
   ]
  },
  {
   "cell_type": "code",
   "execution_count": 415,
   "metadata": {},
   "outputs": [],
   "source": [
    "def segment_on_dt(img):\n",
    "\n",
    "    image = map_pred.astype(np.uint8)\n",
    "    image = cv2.morphologyEx(image, cv2.MORPH_OPEN,np.ones((1, 1), dtype=int))\n",
    "\n",
    "    a = image\n",
    "    img = image\n",
    "\n",
    "    border = cv2.dilate(img, None, iterations=1)\n",
    "    border = border - cv2.erode(border, None)\n",
    "\n",
    "    dt = cv2.distanceTransform(img, 2, 3)\n",
    "    dt = ((dt - dt.min()) / (dt.max() - dt.min()) * 255).astype(np.uint8)\n",
    "    _, dt = cv2.threshold(dt, 130, 255, cv2.THRESH_BINARY)\n",
    "    lbl, ncc = label(dt)\n",
    "    lbl = lbl * (255 / (ncc + 1))\n",
    "    # Completing the markers now. \n",
    "    lbl[border == 255] = 255\n",
    "\n",
    "    lbl = lbl.astype(np.int32)\n",
    "    a = cv2.cvtColor(a,cv2.COLOR_GRAY2RGB)\n",
    "    cv2.watershed(a, lbl)\n",
    "\n",
    "    lbl[lbl == -1] = 0\n",
    "    lbl = lbl.astype(np.uint8)\n",
    "\n",
    "    result = 255 - lbl\n",
    "\n",
    "    result[result == np.max(result)] = 0\n",
    "    result[result == np.max(result)] = 0\n",
    "    unique_values = np.unique(result)  # Find the unique values in the array\n",
    "    sorted_values = np.sort(unique_values)  # Sort the unique values\n",
    "    value_index_map = {value: index for index, value in enumerate(sorted_values)}\n",
    "    ordered_array = np.vectorize(lambda x: value_index_map[x])(result)\n",
    "\n",
    "    return ordered_array\n",
    "\n",
    "result = segment_on_dt(map_pred)"
   ]
  },
  {
   "cell_type": "code",
   "execution_count": null,
   "metadata": {},
   "outputs": [],
   "source": [
    "#we need to define a test notebook to show how we just import the model and use its prediction function that takes returns the full instance segmentation\n",
    "\n",
    "#process of raw image to instance segmentation\n",
    "#1. image is normalised\n",
    "#2. image is cut up into overlapping 256x256 tiles\n",
    "#3. tiles are fed into model\n",
    "#4. model returns binary segmentation for each tile\n",
    "#5. binary segmentation is stitched back together\n",
    "#6. binary segmentation is converted to instance segmentation"
   ]
  },
  {
   "cell_type": "code",
   "execution_count": null,
   "metadata": {},
   "outputs": [],
   "source": [
    "#in terms of improving the model which we will keep to do for later here are some ideas\n",
    "#1. smaller crops\n",
    "#2. more data augmentations\n",
    "#3. a loss which forces the model to learn the small cells\n",
    "#4. batch normalisation"
   ]
  },
  {
   "cell_type": "code",
   "execution_count": 416,
   "metadata": {},
   "outputs": [
    {
     "data": {
      "image/png": "[encoded data removed]",
      "text/plain": [
       "<Figure size 640x480 with 1 Axes>"
      ]
     },
     "metadata": {},
     "output_type": "display_data"
    }
   ],
   "source": [
    "plt.imshow(result);plt.show()   "
   ]
  },
  {
   "cell_type": "code",
   "execution_count": 294,
   "metadata": {},
   "outputs": [
    {
     "name": "stdout",
     "output_type": "stream",
     "text": [
      "(array([0., 1.]), array([49828, 90140], dtype=int64))\n"
     ]
    }
   ],
   "source": [
    "print(np.unique(image, return_counts=True))"
   ]
  },
  {
   "cell_type": "code",
   "execution_count": 153,
   "metadata": {},
   "outputs": [
    {
     "name": "stdout",
     "output_type": "stream",
     "text": [
      "[0 1 2 3 4 5 6]\n"
     ]
    }
   ],
   "source": []
  },
  {
   "cell_type": "code",
   "execution_count": 140,
   "metadata": {},
   "outputs": [
    {
     "ename": "AttributeError",
     "evalue": "'numpy.ndarray' object has no attribute 'cpu'",
     "output_type": "error",
     "traceback": [
      "\u001b[1;31m---------------------------------------------------------------------------\u001b[0m",
      "\u001b[1;31mAttributeError\u001b[0m                            Traceback (most recent call last)",
      "\u001b[1;32mc:\\Users\\rz200\\Documents\\development\\distillCellSegTrack\\pipeline\\two_step_dist_3.ipynb Cell 23\u001b[0m in \u001b[0;36m6\n\u001b[0;32m      <a href='vscode-notebook-cell:/c%3A/Users/rz200/Documents/development/distillCellSegTrack/pipeline/two_step_dist_3.ipynb#X35sZmlsZQ%3D%3D?line=3'>4</a>\u001b[0m map_pred \u001b[39m=\u001b[39m map_pred\u001b[39m.\u001b[39mastype(np\u001b[39m.\u001b[39muint8)\n\u001b[0;32m      <a href='vscode-notebook-cell:/c%3A/Users/rz200/Documents/development/distillCellSegTrack/pipeline/two_step_dist_3.ipynb#X35sZmlsZQ%3D%3D?line=4'>5</a>\u001b[0m \u001b[39m#map_pred = map_pred.squeeze(0)\u001b[39;00m\n\u001b[1;32m----> <a href='vscode-notebook-cell:/c%3A/Users/rz200/Documents/development/distillCellSegTrack/pipeline/two_step_dist_3.ipynb#X35sZmlsZQ%3D%3D?line=5'>6</a>\u001b[0m map_pred \u001b[39m=\u001b[39m map_pred\u001b[39m.\u001b[39;49mcpu()\u001b[39m.\u001b[39mdetach()\u001b[39m.\u001b[39mnumpy()\n\u001b[0;32m      <a href='vscode-notebook-cell:/c%3A/Users/rz200/Documents/development/distillCellSegTrack/pipeline/two_step_dist_3.ipynb#X35sZmlsZQ%3D%3D?line=6'>7</a>\u001b[0m instance \u001b[39m=\u001b[39m measure\u001b[39m.\u001b[39mlabel(map_pred)\n",
      "\u001b[1;31mAttributeError\u001b[0m: 'numpy.ndarray' object has no attribute 'cpu'"
     ]
    }
   ],
   "source": [
    "from skimage import measure\n",
    "\n",
    "map_pred = map_pred>0.5\n",
    "map_pred = map_pred.astype(np.uint8)\n",
    "#map_pred = map_pred.squeeze(0)\n",
    "map_pred = map_pred.cpu().detach().numpy()\n",
    "instance = measure.label(map_pred)"
   ]
  },
  {
   "cell_type": "code",
   "execution_count": null,
   "metadata": {},
   "outputs": [],
   "source": [
    "#need to implement the post-processing instance sgementation step\n",
    "#need to implement the prediction function\n",
    "\n",
    "#need to add the batch normalisation\n",
    "\n",
    "#save model at checkpoint of new best validation IoU\n"
   ]
  },
  {
   "cell_type": "code",
   "execution_count": 97,
   "metadata": {},
   "outputs": [
    {
     "name": "stdout",
     "output_type": "stream",
     "text": [
      "tensor(0.6062, device='cuda:0')\n"
     ]
    }
   ],
   "source": [
    "print(val_IoU/len(validation_loader))"
   ]
  }
 ],
 "metadata": {
  "kernelspec": {
   "display_name": "Python 3",
   "language": "python",
   "name": "python3"
  },
  "language_info": {
   "codemirror_mode": {
    "name": "ipython",
    "version": 3
   },
   "file_extension": ".py",
   "mimetype": "text/x-python",
   "name": "python",
   "nbconvert_exporter": "python",
   "pygments_lexer": "ipython3",
   "version": "3.8.13"
  },
  "orig_nbformat": 4
 },
 "nbformat": 4,
 "nbformat_minor": 2
}
