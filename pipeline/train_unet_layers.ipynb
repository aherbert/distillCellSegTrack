{
 "cells": [
  {
   "cell_type": "code",
   "execution_count": 1,
   "metadata": {},
   "outputs": [
    {
     "name": "stderr",
     "output_type": "stream",
     "text": [
      "c:\\Users\\rz200\\AppData\\Local\\anaconda3\\envs\\cellprob\\lib\\site-packages\\tqdm\\auto.py:21: TqdmWarning: IProgress not found. Please update jupyter and ipywidgets. See https://ipywidgets.readthedocs.io/en/stable/user_install.html\n",
      "  from .autonotebook import tqdm as notebook_tqdm\n"
     ]
    }
   ],
   "source": [
    "from import_images import getImages\n",
    "from import_model import getModel\n",
    "from make_predictions import makePredictions\n",
    "import numpy as np\n",
    "\n",
    "import torch\n",
    "\n",
    "from cellpose import resnet_torch\n",
    "from cellpose import transforms\n",
    "from cellpose import utils\n",
    "import cv2\n",
    "\n",
    "import time\n",
    "\n",
    "from unet_architecture import UNet\n",
    "import torch\n",
    "from torch.utils.data import Dataset, DataLoader\n",
    "import torch.nn.functional as F\n",
    "import torchvision\n",
    "import numpy as np\n",
    "\n",
    "import matplotlib.pyplot as plt"
   ]
  },
  {
   "cell_type": "code",
   "execution_count": 2,
   "metadata": {},
   "outputs": [],
   "source": [
    "images_directory = \"C:\\\\Users\\\\rz200\\\\Documents\\\\development\\\\distillCellSegTrack\\\\pipeline\\\\uploads\\\\\"\n",
    "images = getImages(images_directory)\n",
    "\n",
    "directory = \"C:\\\\Users\\\\rz200\\\\Documents\\\\development\\\\distillCellSegTrack\\\\datasets\\\\Fluo-C2DL-Huh7\\\\01\\\\models\\\\CP_20230601_101328\"\n",
    "cellpose_model = getModel(directory)"
   ]
  },
  {
   "cell_type": "code",
   "execution_count": 3,
   "metadata": {},
   "outputs": [],
   "source": [
    "#get model\n",
    "directory = \"C:\\\\Users\\\\rz200\\\\Documents\\\\development\\\\distillCellSegTrack\\\\datasets\\\\Fluo-C2DL-Huh7\\\\01\\\\models\\\\CP_20230601_101328\"\n",
    "cpnet = resnet_torch.CPnet(nbase=[2,32,64,128,256],nout=3,sz=3)\n",
    "cpnet.load_model(directory)\n",
    "\n",
    "#size at which we rescale the image so that the size of the nucleis match the size the cellpose models needs\n",
    "rescale = cpnet.diam_mean/cpnet.diam_labels\n"
   ]
  },
  {
   "cell_type": "code",
   "execution_count": 4,
   "metadata": {},
   "outputs": [],
   "source": [
    "def get_pre_activations(image,cpnet):\n",
    "    rescale = cpnet.diam_mean/cpnet.diam_labels\n",
    "    shape1, shape2 = image.shape[0], image.shape[1]\n",
    "\n",
    "    x = transforms.resize_image(image, rsz=rescale,no_channels=True)\n",
    "    x = x.astype(np.float32)\n",
    "    x = np.expand_dims(x, axis=0)\n",
    "    x = np.concatenate((x, x), axis=0)\n",
    "    x = torch.from_numpy(x)\n",
    "    x = x.unsqueeze(0)\n",
    "\n",
    "    y, style = cpnet(x)\n",
    "    y = y.squeeze(0)\n",
    "    y = y.cpu().detach().numpy()\n",
    "\n",
    "    return y"
   ]
  },
  {
   "cell_type": "code",
   "execution_count": 5,
   "metadata": {},
   "outputs": [
    {
     "name": "stdout",
     "output_type": "stream",
     "text": [
      "a\n",
      "a\n",
      "a\n",
      "a\n",
      "a\n",
      "a\n",
      "a\n",
      "a\n",
      "a\n",
      "a\n",
      "a\n"
     ]
    }
   ],
   "source": [
    "training_images = images\n",
    "training_probability_maps, training_cell_masks = makePredictions(images, cellpose_model)\n",
    "training_pre_activations = []\n",
    "for image in training_images:\n",
    "    training_pre_activations.append(get_pre_activations(image,cpnet))"
   ]
  },
  {
   "cell_type": "code",
   "execution_count": 6,
   "metadata": {},
   "outputs": [
    {
     "name": "stdout",
     "output_type": "stream",
     "text": [
      "[-16.653835 -16.53738  -16.5023   ...  33.636337  33.734863  34.601616]\n",
      "[0.         0.00227205 0.00295647 ... 0.9811673  0.98308957 1.        ]\n"
     ]
    }
   ],
   "source": [
    "print(np.unique(training_pre_activations[2]))\n",
    "\n",
    "print(np.unique(training_pre_activations[2]-np.min(training_pre_activations[2]))/(np.max(training_pre_activations[2])-np.min(training_pre_activations[2])))"
   ]
  },
  {
   "cell_type": "code",
   "execution_count": 8,
   "metadata": {},
   "outputs": [
    {
     "name": "stdout",
     "output_type": "stream",
     "text": [
      "132 132 132\n"
     ]
    }
   ],
   "source": [
    "class ImageDataset(Dataset):\n",
    "    def __init__(self, image, cellprob, cellmask):\n",
    "        self.image = image\n",
    "        self.cellprob = cellprob\n",
    "        self.cellmask = cellmask\n",
    "\n",
    "    def __len__(self):\n",
    "        return len(self.image)\n",
    "\n",
    "    def __getitem__(self, idx):\n",
    "        img = self.image[idx]\n",
    "        cellprob = self.cellprob[idx]\n",
    "        cellmask = self.cellmask[idx]\n",
    "        return img, cellprob, cellmask\n",
    "    \n",
    "def split_image_set(set):\n",
    "    splitted = []\n",
    "    for image in set:\n",
    "        for i in range(0, image.shape[0], 268):\n",
    "            for j in range(0, image.shape[0], 268):\n",
    "                sub_img = image[i:i+268, j:j+268]\n",
    "                splitted.append(sub_img)\n",
    "    return splitted\n",
    "\n",
    "#normalise the training_images\n",
    "training_images = [(image-np.min(image))/(np.max(image)-np.min(image)) for image in training_images]\n",
    "#normalise the probability maps\n",
    "#pm_normalised = [(image-np.min(image))/(np.max(image)-np.min(image)) for image in training_pre_activations]\n",
    "#pm_normalised = [(image-np.min(image))/(np.max(image)-np.min(image)) for image in training_pre_activations]\n",
    "\n",
    "#binarise the cell masks\n",
    "cm_binary = [np.where(image > 0, 1.0, 0.0) for image in training_cell_masks]\n",
    "\n",
    "#pad the images, probability maps and cell masks to 1024x1024\n",
    "#images_pad = [np.pad(img,((0,1024-img.shape[0]),(0,1024-img.shape[1])),mode='constant',constant_values=0) for img in training_images]\n",
    "#pm_norm_pad = [np.pad(img,((0, 0), (0,1024-img.shape[1]),(0,1024-img.shape[2]) ),mode='constant',constant_values=0) for img in training_pre_activations]\n",
    "#cm_bin_pad = [np.pad(img,((0,1024-img.shape[0]),(0,1024-img.shape[1])),mode='constant',constant_values=0) for img in cm_binary]\n",
    "\n",
    "images_pad = []\n",
    "for image in training_images:\n",
    "    images_pad.append(cv2.resize(image, dsize=(536, 536), interpolation=cv2.INTER_NEAREST))\n",
    "cm_bin_pad = []\n",
    "for image in cm_binary:\n",
    "    cm_bin_pad.append(cv2.resize(image, dsize=(536, 536), interpolation=cv2.INTER_NEAREST))\n",
    "\n",
    "#split the images, probability maps and cell masks into 256x256 images\n",
    "images_pad_split = split_image_set(images_pad)\n",
    "pm_norm_pad_split = []\n",
    "for image in training_pre_activations:\n",
    "    for i in range(0, 536, 268):\n",
    "        for j in range(0, 536, 268):\n",
    "            sub_img = image[:, i:i+268, j:j+268]\n",
    "            pm_norm_pad_split.append(sub_img)\n",
    "cm_bin_pad_split = split_image_set(cm_bin_pad)\n",
    "\n",
    "#augment with rotations\n",
    "images_rotated = []\n",
    "pm_rotated = []\n",
    "cm_rotated = []\n",
    "for i in range(len(images_pad_split)):\n",
    "    for j in range(1,4):\n",
    "        images_rotated.append(np.rot90(images_pad_split[i],j))\n",
    "        pm_rotated.append(np.rot90(pm_norm_pad_split[i], j, axes=(1, 2)))\n",
    "        cm_rotated.append(np.rot90(cm_bin_pad_split[i],j))\n",
    "\n",
    "#remove the images from cm_bin_pad_split that only have 0s, and remove them from images_pad_split and pm_norm_pad_split\n",
    "images_pad_split_filtered = [images_rotated[i] for i in range(len(cm_rotated)) if np.sum(cm_rotated[i]) > 0]\n",
    "pm_norm_pad_split_filtered = [pm_rotated[i] for i in range(len(cm_rotated)) if np.sum(cm_rotated[i]) > 0]\n",
    "cm_bin_pad_split_filtered = [img for img in cm_rotated if np.sum(img) > 0]\n",
    "\n",
    "print(len(images_pad_split_filtered), len(pm_norm_pad_split_filtered), len(cm_bin_pad_split_filtered))\n",
    "\n",
    "images_torch = [torch.from_numpy(np.array(images_pad_split_filtered[i])) for i in range(len(images_pad_split_filtered))]\n",
    "\n",
    "pm_torch = []\n",
    "for i in range(len(pm_norm_pad_split_filtered)):\n",
    "    pm_torch.append(torch.from_numpy(np.array(pm_norm_pad_split_filtered[i])))\n",
    "\n",
    "cm_torch = [torch.from_numpy(np.array(cm_bin_pad_split_filtered[i])) for i in range(len(cm_bin_pad_split_filtered))]"
   ]
  },
  {
   "cell_type": "code",
   "execution_count": 9,
   "metadata": {},
   "outputs": [
    {
     "data": {
      "image/png": "[encoded data removed]",
      "text/plain": [
       "<Figure size 640x480 with 3 Axes>"
      ]
     },
     "metadata": {},
     "output_type": "display_data"
    }
   ],
   "source": [
    "\n",
    "index = np.random.randint(0, len(images_torch))\n",
    "#index = 0\n",
    "plt.subplot(1,3,1)\n",
    "plt.imshow(images_torch[index])\n",
    "plt.subplot(1,3,2)\n",
    "plt.imshow(pm_torch[index][2])\n",
    "plt.subplot(1,3,3)\n",
    "plt.imshow(cm_torch[index])\n",
    "plt.show()"
   ]
  },
  {
   "cell_type": "code",
   "execution_count": 10,
   "metadata": {},
   "outputs": [
    {
     "name": "stdout",
     "output_type": "stream",
     "text": [
      "torch.Size([1, 3, 268, 268])\n"
     ]
    }
   ],
   "source": [
    "unet = UNet(nbClasses=3)\n",
    "test = unet(torch.rand(1, 1, 268, 268))\n",
    "\n",
    "print(test.shape)"
   ]
  },
  {
   "cell_type": "code",
   "execution_count": 11,
   "metadata": {},
   "outputs": [
    {
     "name": "stdout",
     "output_type": "stream",
     "text": [
      "1\n"
     ]
    }
   ],
   "source": [
    "train_dataset = ImageDataset(images_torch[:1], pm_torch[:1], cm_torch[:1])\n",
    "print(len(train_dataset))\n",
    "train_loader = DataLoader(train_dataset, batch_size=4, shuffle=True)\n"
   ]
  },
  {
   "cell_type": "code",
   "execution_count": 12,
   "metadata": {},
   "outputs": [
    {
     "data": {
      "image/png": "[encoded data removed]",
      "text/plain": [
       "<Figure size 640x480 with 3 Axes>"
      ]
     },
     "metadata": {},
     "output_type": "display_data"
    }
   ],
   "source": [
    "plt.subplot(1,3,1)\n",
    "plt.imshow(images_torch[0])\n",
    "plt.subplot(1,3,2)\n",
    "plt.imshow(pm_torch[0][2])\n",
    "plt.subplot(1,3,3)\n",
    "plt.imshow(cm_torch[0])\n",
    "plt.show()"
   ]
  },
  {
   "cell_type": "code",
   "execution_count": 13,
   "metadata": {},
   "outputs": [
    {
     "name": "stdout",
     "output_type": "stream",
     "text": [
      "tensor([0., 1.], dtype=torch.float64)\n"
     ]
    }
   ],
   "source": [
    "print(torch.unique(cm_torch[0]))"
   ]
  },
  {
   "cell_type": "code",
   "execution_count": 14,
   "metadata": {},
   "outputs": [
    {
     "name": "stdout",
     "output_type": "stream",
     "text": [
      "[-14.460893  -14.409637  -14.3321295 ...  24.381422   24.653845\n",
      "  25.005152 ]\n"
     ]
    }
   ],
   "source": [
    "print(np.unique(pm_torch[0]))"
   ]
  },
  {
   "cell_type": "code",
   "execution_count": 15,
   "metadata": {},
   "outputs": [
    {
     "name": "stdout",
     "output_type": "stream",
     "text": [
      "Epoch  0 Training loss:  1.1059671640396118 Time:  0.31969761848449707\n",
      "Epoch  1 Training loss:  1.1056904792785645 Time:  0.010966777801513672\n",
      "Epoch  2 Training loss:  1.1051409244537354 Time:  0.009966135025024414\n",
      "Epoch  3 Training loss:  1.1043223142623901 Time:  0.01096343994140625\n",
      "Epoch  4 Training loss:  1.1032376289367676 Time:  0.008970022201538086\n",
      "Epoch  5 Training loss:  1.1018942594528198 Time:  0.008969783782958984\n",
      "Epoch  6 Training loss:  1.1003111600875854 Time:  0.012959480285644531\n",
      "Epoch  7 Training loss:  1.0984896421432495 Time:  0.009976625442504883\n",
      "Epoch  8 Training loss:  1.0964415073394775 Time:  0.008970260620117188\n",
      "Epoch  9 Training loss:  1.0941720008850098 Time:  0.008969306945800781\n",
      "Epoch  10 Training loss:  1.091700553894043 Time:  0.009969949722290039\n",
      "Epoch  11 Training loss:  1.089038610458374 Time:  0.008966684341430664\n",
      "Epoch  12 Training loss:  1.086200475692749 Time:  0.009966373443603516\n",
      "Epoch  13 Training loss:  1.0831876993179321 Time:  0.010995149612426758\n",
      "Epoch  14 Training loss:  1.0800285339355469 Time:  0.008912324905395508\n",
      "Epoch  15 Training loss:  1.07672119140625 Time:  0.009968757629394531\n",
      "Epoch  16 Training loss:  1.0732923746109009 Time:  0.009964942932128906\n",
      "Epoch  17 Training loss:  1.069756269454956 Time:  0.009966135025024414\n",
      "Epoch  18 Training loss:  1.0661085844039917 Time:  0.010963201522827148\n",
      "Epoch  19 Training loss:  1.0623643398284912 Time:  0.009977340698242188\n",
      "Epoch  20 Training loss:  1.0585368871688843 Time:  0.009966135025024414\n",
      "Epoch  21 Training loss:  1.0546345710754395 Time:  0.009966611862182617\n",
      "Epoch  22 Training loss:  1.0506584644317627 Time:  0.009966611862182617\n",
      "Epoch  23 Training loss:  1.046618938446045 Time:  0.01096343994140625\n",
      "Epoch  24 Training loss:  1.042528510093689 Time:  0.009975433349609375\n",
      "Epoch  25 Training loss:  1.0383855104446411 Time:  0.009966611862182617\n",
      "Epoch  26 Training loss:  1.0341981649398804 Time:  0.008969783782958984\n",
      "Epoch  27 Training loss:  1.0299817323684692 Time:  0.009966611862182617\n",
      "Epoch  28 Training loss:  1.0257232189178467 Time:  0.010963201522827148\n",
      "Epoch  29 Training loss:  1.0214588642120361 Time:  0.009966611862182617\n",
      "Epoch  30 Training loss:  1.017167329788208 Time:  0.008969783782958984\n",
      "Epoch  31 Training loss:  1.0128644704818726 Time:  0.008969783782958984\n",
      "Epoch  32 Training loss:  1.008544921875 Time:  0.009966850280761719\n",
      "Epoch  33 Training loss:  1.0042258501052856 Time:  0.009962797164916992\n",
      "Epoch  34 Training loss:  0.9999101161956787 Time:  0.008982419967651367\n",
      "Epoch  35 Training loss:  0.9955906271934509 Time:  0.009978294372558594\n",
      "Epoch  36 Training loss:  0.991280734539032 Time:  0.008974790573120117\n",
      "Epoch  37 Training loss:  0.9869733452796936 Time:  0.008969783782958984\n",
      "Epoch  38 Training loss:  0.9826833605766296 Time:  0.007973194122314453\n",
      "Epoch  39 Training loss:  0.9784116148948669 Time:  0.008969783782958984\n",
      "Epoch  40 Training loss:  0.9741679430007935 Time:  0.009010553359985352\n",
      "Epoch  41 Training loss:  0.9699416756629944 Time:  0.008969783782958984\n",
      "Epoch  42 Training loss:  0.9657548069953918 Time:  0.008970022201538086\n",
      "Epoch  43 Training loss:  0.9615859985351562 Time:  0.00948476791381836\n",
      "Epoch  44 Training loss:  0.957443356513977 Time:  0.009963035583496094\n",
      "Epoch  45 Training loss:  0.9533284902572632 Time:  0.008981466293334961\n",
      "Epoch  46 Training loss:  0.9492350220680237 Time:  0.008970260620117188\n",
      "Epoch  47 Training loss:  0.9451606273651123 Time:  0.008969306945800781\n",
      "Epoch  48 Training loss:  0.9411295056343079 Time:  0.007973432540893555\n",
      "Epoch  49 Training loss:  0.9371240735054016 Time:  0.008969783782958984\n",
      "Epoch  50 Training loss:  0.9331503510475159 Time:  0.008970260620117188\n",
      "Epoch  51 Training loss:  0.929202675819397 Time:  0.008969783782958984\n",
      "Epoch  52 Training loss:  0.9252849817276001 Time:  0.008969545364379883\n",
      "Epoch  53 Training loss:  0.9213950634002686 Time:  0.008970260620117188\n",
      "Epoch  54 Training loss:  0.9175316691398621 Time:  0.008970022201538086\n",
      "Epoch  55 Training loss:  0.9137057065963745 Time:  0.010204792022705078\n",
      "Epoch  56 Training loss:  0.9098992943763733 Time:  0.009736776351928711\n",
      "Epoch  57 Training loss:  0.9061340093612671 Time:  0.008969783782958984\n",
      "Epoch  58 Training loss:  0.9024032354354858 Time:  0.008970022201538086\n",
      "Epoch  59 Training loss:  0.8987023234367371 Time:  0.009966850280761719\n",
      "Epoch  60 Training loss:  0.8950294852256775 Time:  0.008969783782958984\n",
      "Epoch  61 Training loss:  0.8913900852203369 Time:  0.009974479675292969\n",
      "Epoch  62 Training loss:  0.8877812027931213 Time:  0.010140180587768555\n",
      "Epoch  63 Training loss:  0.8842132091522217 Time:  0.008796453475952148\n",
      "Epoch  64 Training loss:  0.8806700110435486 Time:  0.009966611862182617\n",
      "Epoch  65 Training loss:  0.8771610260009766 Time:  0.008977651596069336\n",
      "Epoch  66 Training loss:  0.8736894726753235 Time:  0.008970022201538086\n",
      "Epoch  67 Training loss:  0.870254635810852 Time:  0.008969783782958984\n",
      "Epoch  68 Training loss:  0.8668510317802429 Time:  0.009966850280761719\n",
      "Epoch  69 Training loss:  0.8634815216064453 Time:  0.011959552764892578\n",
      "Epoch  70 Training loss:  0.8601478338241577 Time:  0.00997471809387207\n"
     ]
    },
    {
     "ename": "RuntimeError",
     "evalue": "cuDNN error: CUDNN_STATUS_EXECUTION_FAILED\nYou can try to repro this exception using the following code snippet. If that doesn't trigger the error, please include your original repro script when reporting this issue.\n\nimport torch\ntorch.backends.cuda.matmul.allow_tf32 = False\ntorch.backends.cudnn.benchmark = False\ntorch.backends.cudnn.deterministic = False\ntorch.backends.cudnn.allow_tf32 = True\ndata = torch.randn([1, 32, 134, 134], dtype=torch.float, device='cuda', requires_grad=True)\nnet = torch.nn.Conv2d(32, 64, kernel_size=[2, 2], padding=[0, 0], stride=[2, 2], dilation=[1, 1], groups=1)\nnet = net.cuda().float()\nout = net(data)\nout.backward(torch.randn_like(out))\ntorch.cuda.synchronize()\n\nConvolutionParams \n    memory_format = Contiguous\n    data_type = CUDNN_DATA_FLOAT\n    padding = [0, 0, 0]\n    stride = [2, 2, 0]\n    dilation = [1, 1, 0]\n    groups = 1\n    deterministic = false\n    allow_tf32 = true\ninput: TensorDescriptor 00000264BB4ECFA0\n    type = CUDNN_DATA_FLOAT\n    nbDims = 4\n    dimA = 1, 32, 134, 134, \n    strideA = 574592, 17956, 134, 1, \noutput: TensorDescriptor 00000264BB4ED0F0\n    type = CUDNN_DATA_FLOAT\n    nbDims = 4\n    dimA = 1, 64, 67, 67, \n    strideA = 287296, 4489, 67, 1, \nweight: FilterDescriptor 00000263A92C10E0\n    type = CUDNN_DATA_FLOAT\n    tensor_format = CUDNN_TENSOR_NCHW\n    nbDims = 4\n    dimA = 64, 32, 2, 2, \nPointer addresses: \n    input: 000000145C600000\n    output: 000000140C470800\n    weight: 000000140C9DEA00\nAdditional pointer addresses: \n    grad_output: 000000140C470800\n    grad_weight: 000000140C9DEA00\nBackward filter algorithm: 1\n",
     "output_type": "error",
     "traceback": [
      "\u001b[1;31m---------------------------------------------------------------------------\u001b[0m",
      "\u001b[1;31mRuntimeError\u001b[0m                              Traceback (most recent call last)",
      "Cell \u001b[1;32mIn[15], line 123\u001b[0m\n\u001b[0;32m    120\u001b[0m num_epochs \u001b[39m=\u001b[39m \u001b[39m500\u001b[39m\n\u001b[0;32m    122\u001b[0m \u001b[39mfor\u001b[39;00m epoch \u001b[39min\u001b[39;00m \u001b[39mrange\u001b[39m(num_epochs):\n\u001b[1;32m--> 123\u001b[0m     unet \u001b[39m=\u001b[39m trainEpoch(unet, train_loader, loss_fn, optimiser, scheduler\u001b[39m=\u001b[39;49mscheduler, epoch_num\u001b[39m=\u001b[39;49mepoch)\n",
      "Cell \u001b[1;32mIn[15], line 96\u001b[0m, in \u001b[0;36mtrainEpoch\u001b[1;34m(unet, train_loader, loss_fn, optimiser, scheduler, epoch_num)\u001b[0m\n\u001b[0;32m     93\u001b[0m train_loss \u001b[39m+\u001b[39m\u001b[39m=\u001b[39m loss\n\u001b[0;32m     95\u001b[0m optimiser\u001b[39m.\u001b[39mzero_grad() \u001b[39m# zero out the accumulated gradients\u001b[39;00m\n\u001b[1;32m---> 96\u001b[0m loss\u001b[39m.\u001b[39;49mbackward() \u001b[39m# backpropagate the loss\u001b[39;00m\n\u001b[0;32m     97\u001b[0m optimiser\u001b[39m.\u001b[39mstep() \u001b[39m# update model parameters\u001b[39;00m\n\u001b[0;32m     98\u001b[0m \u001b[39mif\u001b[39;00m scheduler \u001b[39mis\u001b[39;00m \u001b[39mnot\u001b[39;00m \u001b[39mNone\u001b[39;00m:\n",
      "File \u001b[1;32mc:\\Users\\rz200\\AppData\\Local\\anaconda3\\envs\\cellprob\\lib\\site-packages\\torch\\_tensor.py:396\u001b[0m, in \u001b[0;36mTensor.backward\u001b[1;34m(self, gradient, retain_graph, create_graph, inputs)\u001b[0m\n\u001b[0;32m    387\u001b[0m \u001b[39mif\u001b[39;00m has_torch_function_unary(\u001b[39mself\u001b[39m):\n\u001b[0;32m    388\u001b[0m     \u001b[39mreturn\u001b[39;00m handle_torch_function(\n\u001b[0;32m    389\u001b[0m         Tensor\u001b[39m.\u001b[39mbackward,\n\u001b[0;32m    390\u001b[0m         (\u001b[39mself\u001b[39m,),\n\u001b[1;32m   (...)\u001b[0m\n\u001b[0;32m    394\u001b[0m         create_graph\u001b[39m=\u001b[39mcreate_graph,\n\u001b[0;32m    395\u001b[0m         inputs\u001b[39m=\u001b[39minputs)\n\u001b[1;32m--> 396\u001b[0m torch\u001b[39m.\u001b[39;49mautograd\u001b[39m.\u001b[39;49mbackward(\u001b[39mself\u001b[39;49m, gradient, retain_graph, create_graph, inputs\u001b[39m=\u001b[39;49minputs)\n",
      "File \u001b[1;32mc:\\Users\\rz200\\AppData\\Local\\anaconda3\\envs\\cellprob\\lib\\site-packages\\torch\\autograd\\__init__.py:173\u001b[0m, in \u001b[0;36mbackward\u001b[1;34m(tensors, grad_tensors, retain_graph, create_graph, grad_variables, inputs)\u001b[0m\n\u001b[0;32m    168\u001b[0m     retain_graph \u001b[39m=\u001b[39m create_graph\n\u001b[0;32m    170\u001b[0m \u001b[39m# The reason we repeat same the comment below is that\u001b[39;00m\n\u001b[0;32m    171\u001b[0m \u001b[39m# some Python versions print out the first line of a multi-line function\u001b[39;00m\n\u001b[0;32m    172\u001b[0m \u001b[39m# calls in the traceback and some print out the last line\u001b[39;00m\n\u001b[1;32m--> 173\u001b[0m Variable\u001b[39m.\u001b[39;49m_execution_engine\u001b[39m.\u001b[39;49mrun_backward(  \u001b[39m# Calls into the C++ engine to run the backward pass\u001b[39;49;00m\n\u001b[0;32m    174\u001b[0m     tensors, grad_tensors_, retain_graph, create_graph, inputs,\n\u001b[0;32m    175\u001b[0m     allow_unreachable\u001b[39m=\u001b[39;49m\u001b[39mTrue\u001b[39;49;00m, accumulate_grad\u001b[39m=\u001b[39;49m\u001b[39mTrue\u001b[39;49;00m)\n",
      "\u001b[1;31mRuntimeError\u001b[0m: cuDNN error: CUDNN_STATUS_EXECUTION_FAILED\nYou can try to repro this exception using the following code snippet. If that doesn't trigger the error, please include your original repro script when reporting this issue.\n\nimport torch\ntorch.backends.cuda.matmul.allow_tf32 = False\ntorch.backends.cudnn.benchmark = False\ntorch.backends.cudnn.deterministic = False\ntorch.backends.cudnn.allow_tf32 = True\ndata = torch.randn([1, 32, 134, 134], dtype=torch.float, device='cuda', requires_grad=True)\nnet = torch.nn.Conv2d(32, 64, kernel_size=[2, 2], padding=[0, 0], stride=[2, 2], dilation=[1, 1], groups=1)\nnet = net.cuda().float()\nout = net(data)\nout.backward(torch.randn_like(out))\ntorch.cuda.synchronize()\n\nConvolutionParams \n    memory_format = Contiguous\n    data_type = CUDNN_DATA_FLOAT\n    padding = [0, 0, 0]\n    stride = [2, 2, 0]\n    dilation = [1, 1, 0]\n    groups = 1\n    deterministic = false\n    allow_tf32 = true\ninput: TensorDescriptor 00000264BB4ECFA0\n    type = CUDNN_DATA_FLOAT\n    nbDims = 4\n    dimA = 1, 32, 134, 134, \n    strideA = 574592, 17956, 134, 1, \noutput: TensorDescriptor 00000264BB4ED0F0\n    type = CUDNN_DATA_FLOAT\n    nbDims = 4\n    dimA = 1, 64, 67, 67, \n    strideA = 287296, 4489, 67, 1, \nweight: FilterDescriptor 00000263A92C10E0\n    type = CUDNN_DATA_FLOAT\n    tensor_format = CUDNN_TENSOR_NCHW\n    nbDims = 4\n    dimA = 64, 32, 2, 2, \nPointer addresses: \n    input: 000000145C600000\n    output: 000000140C470800\n    weight: 000000140C9DEA00\nAdditional pointer addresses: \n    grad_output: 000000140C470800\n    grad_weight: 000000140C9DEA00\nBackward filter algorithm: 1\n"
     ]
    }
   ],
   "source": [
    "\n",
    "class KDLoss(torch.nn.Module):\n",
    "    def __init__(self, alpha=1.0, beta = 0.0, temperature=1):\n",
    "        super(KDLoss, self).__init__()\n",
    "        self.alpha = alpha\n",
    "        self.beta = beta\n",
    "        self.temperature = temperature\n",
    "\n",
    "    def forward(self, y_pred_logits, y_pred_mask, y_cp_true, y_cm_true):\n",
    "        #print(y_pred_logits.shape, y_pred_mask.shape, y_cp_true.shape, y_cm_true.shape)\n",
    "        \n",
    "        #y_pred_sig = torch.sigmoid(y_pred_logits)\n",
    "        #y_pred_bin = torch.where(y_pred_sig > 0.5, 1.0, 0.0)\n",
    "        #cast y_pred_bin to float\n",
    "        #y_pred_bin = y_pred_bin.type(torch.FloatTensor)\n",
    "        #print(y_pred_logits.shape, y_cp_true.shape)\n",
    "        y_cp_true_softmax = F.softmax(y_cp_true/self.temperature, dim=1)\n",
    "        kd_loss = F.cross_entropy(y_pred_logits, y_cp_true_softmax)\n",
    "\n",
    "        ce_loss = F.binary_cross_entropy(y_pred_mask.float(), y_cm_true.float())\n",
    "\n",
    "        #binarised = torch.where(F.sigmoid(y_pred_logits) > 0.4, 1.0, 0.0)\n",
    "        #ce_loss = F.binary_cross_entropy(binarised, y_cp_true)  # compute binary cross-entropy loss\n",
    "        #loss = F.binary_cross_entropy_with_logits(y_pred_logits, y_cm_true)\n",
    "        #y_pred_mask = torch.sigmoid(y_pred_logits)  # compute predicted probabilities\n",
    "        #y_pred_mask = torch.where(y_pred_mask>0.4,1.0,0.0) # binarise\n",
    "          # compute KL divergence loss\n",
    "        \n",
    "        loss = self.alpha * kd_loss + self.beta * ce_loss  # combine losses\n",
    "        return loss\n",
    "\n",
    "def denormalize(array, min_value, max_value):\n",
    "    normalized_range = 1.0\n",
    "    normalized_array = array\n",
    "    denormalized_array = (normalized_array * (max_value - min_value)) + min_value\n",
    "    return denormalized_array\n",
    "\n",
    "def trainEpoch(unet, train_loader, loss_fn, optimiser, scheduler, epoch_num):\n",
    "    time_start = time.time()\n",
    "    \n",
    "    unet.train()\n",
    "\n",
    "    train_loss = 0\n",
    "    for image, cellprob, cellmask in train_loader:\n",
    "        (image,cellprob,cellmask) = (image.to('cuda:0'),cellprob.to('cuda:0'),cellmask.to('cuda:0')) # sending the data to the device (cpu or GPU)\n",
    "\n",
    "        image = image.unsqueeze(1)\n",
    "        pred = unet(image).squeeze(1) #make a prediction\n",
    "        #print('pred shape', pred.shape)\n",
    "        \n",
    "\n",
    "        min_value = -16\n",
    "        max_value = 34\n",
    "        #pred = denormalize(pred, min_value, max_value)\n",
    "\n",
    "        detranspose = (1,2,0)\n",
    "        predicted_masks = []\n",
    "        for p in pred:\n",
    "            p = p.cpu().detach().numpy()\n",
    "            p = denormalize(p, min_value, max_value)\n",
    "            p = np.transpose(p, detranspose)\n",
    "            p = utils.get_masks_unet(p, cell_threshold=2.0, boundary_threshold=0.5)\n",
    "            p = utils.fill_holes_and_remove_small_masks(p, min_size=15)\n",
    "            p = torch.from_numpy(p).to('cuda:0')\n",
    "            predicted_masks.append(p)\n",
    "        predicted_masks = torch.stack(predicted_masks).unsqueeze(1)\n",
    "        #cellprob = torch.unsqueeze(cellprob,1)\n",
    "        cellmask = torch.unsqueeze(cellmask,1)\n",
    "\n",
    "        #if len(np.unique(predicted_masks.cpu().detach().numpy())) > 1:\n",
    "        #    plt.subplot(1,2,1)\n",
    "        #    plt.imshow(predicted_masks[0].cpu().detach().numpy()[0])\n",
    "        #    plt.subplot(1,2,2)\n",
    "        #    plt.imshow(cellmask[0].cpu().detach().numpy()[0])\n",
    "        #    plt.show()\n",
    "\n",
    "        #loss = loss_fn(pred, cellprob,10) # calculate the loss of that prediction\n",
    "        \n",
    "        #print(torch.unique(pred),torch.unique(predicted_masks),torch.unique(cellprob),torch.unique(cellmask))\n",
    "\n",
    "        if 5 ==4:\n",
    "            plt.subplot(1,4,1)\n",
    "            plt.imshow(pred[0].cpu().detach().numpy()[0])\n",
    "            plt.subplot(1,4,2)\n",
    "            plt.imshow(predicted_masks[0].cpu().detach().numpy()[0])\n",
    "            plt.subplot(1,4,3)\n",
    "            plt.imshow(cellprob[0].cpu().detach().numpy()[0])\n",
    "            plt.subplot(1,4,4)\n",
    "            plt.imshow(cellmask[0].cpu().detach().numpy()[0])\n",
    "            plt.show()\n",
    "        \n",
    "        loss = loss_fn(pred, predicted_masks.float(), cellprob, cellmask) # calculate the loss of that prediction\n",
    "        #loss = loss_fn(pred, cellmask )\n",
    "        train_loss += loss\n",
    "    \n",
    "        optimiser.zero_grad() # zero out the accumulated gradients\n",
    "        loss.backward() # backpropagate the loss\n",
    "        optimiser.step() # update model parameters\n",
    "        if scheduler is not None:\n",
    "            scheduler.step()\n",
    "    train_loss = train_loss.item()/len(train_loader)\n",
    "\n",
    "    if epoch_num is None:\n",
    "        print('Training loss: ', train_loss, 'Time: ', time.time()-time_start)\n",
    "    else:\n",
    "        print('Epoch ', epoch_num, 'Training loss: ', train_loss, 'Time: ', time.time()-time_start)\n",
    "    #plt.imshow(pred[0].cpu().detach().numpy()[0])\n",
    "    #plt.show()\n",
    "\n",
    "    return unet\n",
    "\n",
    "unet = UNet(nbClasses=3)\n",
    "unet = unet.to('cuda:0')\n",
    "loss_fn = KDLoss()\n",
    "#loss_fn = IoULoss()\n",
    "# loss_fn = torchvision.ops.distance_box_iou_loss()\n",
    "#loss_fn = DiceLoss()\n",
    "optimiser = torch.optim.SGD(unet.parameters(), lr=0.1, momentum=0.1)\n",
    "scheduler = torch.optim.lr_scheduler.CyclicLR(optimiser, base_lr=0.001, max_lr=0.1)\n",
    "\n",
    "num_epochs = 500\n",
    "\n",
    "for epoch in range(num_epochs):\n",
    "    unet = trainEpoch(unet, train_loader, loss_fn, optimiser, scheduler=scheduler, epoch_num=epoch)"
   ]
  },
  {
   "cell_type": "code",
   "execution_count": 16,
   "metadata": {},
   "outputs": [
    {
     "ename": "RuntimeError",
     "evalue": "CUDA error: device-side assert triggered\nCUDA kernel errors might be asynchronously reported at some other API call,so the stacktrace below might be incorrect.\nFor debugging consider passing CUDA_LAUNCH_BLOCKING=1.",
     "output_type": "error",
     "traceback": [
      "\u001b[1;31m---------------------------------------------------------------------------\u001b[0m",
      "\u001b[1;31mRuntimeError\u001b[0m                              Traceback (most recent call last)",
      "Cell \u001b[1;32mIn[16], line 2\u001b[0m\n\u001b[0;32m      1\u001b[0m x \u001b[39m=\u001b[39m training_images[\u001b[39m0\u001b[39m][\u001b[39m100\u001b[39m:\u001b[39m368\u001b[39m,\u001b[39m100\u001b[39m:\u001b[39m368\u001b[39m]\n\u001b[1;32m----> 2\u001b[0m x \u001b[39m=\u001b[39m torch\u001b[39m.\u001b[39;49mfrom_numpy(x)\u001b[39m.\u001b[39;49mto(\u001b[39m'\u001b[39;49m\u001b[39mcuda:0\u001b[39;49m\u001b[39m'\u001b[39;49m)\n\u001b[0;32m      3\u001b[0m x \u001b[39m=\u001b[39m x\u001b[39m.\u001b[39munsqueeze(\u001b[39m0\u001b[39m)\n\u001b[0;32m      4\u001b[0m x \u001b[39m=\u001b[39m x\u001b[39m.\u001b[39munsqueeze(\u001b[39m0\u001b[39m)\n",
      "\u001b[1;31mRuntimeError\u001b[0m: CUDA error: device-side assert triggered\nCUDA kernel errors might be asynchronously reported at some other API call,so the stacktrace below might be incorrect.\nFor debugging consider passing CUDA_LAUNCH_BLOCKING=1."
     ]
    }
   ],
   "source": [
    "x = training_images[0][100:368,100:368]\n",
    "x = torch.from_numpy(x).to('cuda:0')\n",
    "x = x.unsqueeze(0)\n",
    "x = x.unsqueeze(0)\n",
    "\n",
    "unet = unet.to('cuda:0')\n",
    "pred = unet(x).cpu().detach().numpy()[0]\n",
    "\n",
    "def denormalize(array, min_value, max_value):\n",
    "    normalized_range = 1.0\n",
    "    normalized_array = array\n",
    "    denormalized_array = (normalized_array * (max_value - min_value)) + min_value\n",
    "    return denormalized_array\n",
    "\n",
    "min_value = -17\n",
    "max_value = 34\n",
    "print(np.unique(pred))\n",
    "\n",
    "#pred = denormalize(pred, min_value, max_value)\n",
    "\n",
    "print(pred.shape[-1]>2)\n",
    "\n",
    "print(pred.shape)\n",
    "print(np.unique(pred))\n",
    "#print(pred)\n",
    "\n",
    "plt.subplot(1,3,1)\n",
    "plt.imshow(pred[1])\n",
    "\n",
    "detranspose = (1,2,0)\n",
    "#p = pred.cpu().detach().numpy()\n",
    "p = np.transpose(pred, detranspose)\n",
    "p = utils.get_masks_unet(p, cell_threshold=0.0, boundary_threshold=0.0)\n",
    "p = utils.fill_holes_and_remove_small_masks(p, min_size=15)\n",
    "\n",
    "plt.subplot(1,3,2)\n",
    "plt.imshow(p)\n",
    "\n",
    "plt.subplot(1,3,3)\n",
    "plt.imshow(training_cell_masks[0][100:368,100:368])\n",
    "\n",
    "plt.show()\n"
   ]
  },
  {
   "cell_type": "code",
   "execution_count": null,
   "metadata": {},
   "outputs": [
    {
     "name": "stdout",
     "output_type": "stream",
     "text": [
      "[-16.     -9.76    3.2    16.496  32.   ]\n"
     ]
    }
   ],
   "source": [
    "def denormalize(array, min_value, max_value):\n",
    "    normalized_range = 1.0\n",
    "    normalized_array = array\n",
    "    denormalized_array = (normalized_array * (max_value - min_value)) + min_value\n",
    "    return denormalized_array\n",
    "\n",
    "# Example usage:\n",
    "normalized_array = np.array([0, 0.13, 0.4, 0.677, 1])\n",
    "min_value = -16\n",
    "max_value = 32\n",
    "\n",
    "# Denormalize the array\n",
    "denormalized_array = denormalize(normalized_array, min_value, max_value)\n",
    "print(denormalized_array)"
   ]
  },
  {
   "cell_type": "code",
   "execution_count": null,
   "metadata": {},
   "outputs": [],
   "source": []
  }
 ],
 "metadata": {
  "kernelspec": {
   "display_name": "Python 3",
   "language": "python",
   "name": "python3"
  },
  "language_info": {
   "codemirror_mode": {
    "name": "ipython",
    "version": 3
   },
   "file_extension": ".py",
   "mimetype": "text/x-python",
   "name": "python",
   "nbconvert_exporter": "python",
   "pygments_lexer": "ipython3",
   "version": "3.8.16"
  },
  "orig_nbformat": 4
 },
 "nbformat": 4,
 "nbformat_minor": 2
}
